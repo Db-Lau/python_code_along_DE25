{
 "cells": [
  {
   "cell_type": "markdown",
   "id": "9f1f21e9",
   "metadata": {},
   "source": [
    "# Polymorphism\n",
    "\n",
    "\"many shapes\"\n",
    "\n",
    "- same function name or operator used for different types \n",
    "- e.g. \n",
    "  - \"2\" + \"3\" -> \"23\"\n",
    "  - 2 + 3 -> 5\n",
    "\n",
    "in this example, the plus operator works different for different types, it has been operator overloaded\n"
   ]
  },
  {
   "cell_type": "code",
   "execution_count": 15,
   "id": "e7222d92",
   "metadata": {},
   "outputs": [
    {
     "data": {
      "text/plain": [
       "'222'"
      ]
     },
     "execution_count": 15,
     "metadata": {},
     "output_type": "execute_result"
    }
   ],
   "source": [
    "\"2\" + \"22\""
   ]
  },
  {
   "cell_type": "code",
   "execution_count": 16,
   "id": "1bb51fee",
   "metadata": {},
   "outputs": [
    {
     "data": {
      "text/plain": [
       "24"
      ]
     },
     "execution_count": 16,
     "metadata": {},
     "output_type": "execute_result"
    }
   ],
   "source": [
    "2 + 22"
   ]
  },
  {
   "cell_type": "code",
   "execution_count": 17,
   "id": "de3f972a",
   "metadata": {},
   "outputs": [
    {
     "ename": "TypeError",
     "evalue": "unsupported operand type(s) for +: 'int' and 'str'",
     "output_type": "error",
     "traceback": [
      "\u001b[31m---------------------------------------------------------------------------\u001b[39m",
      "\u001b[31mTypeError\u001b[39m                                 Traceback (most recent call last)",
      "\u001b[36mCell\u001b[39m\u001b[36m \u001b[39m\u001b[32mIn[17]\u001b[39m\u001b[32m, line 1\u001b[39m\n\u001b[32m----> \u001b[39m\u001b[32m1\u001b[39m \u001b[32;43m2\u001b[39;49m\u001b[43m \u001b[49m\u001b[43m+\u001b[49m\u001b[43m \u001b[49m\u001b[33;43m\"\u001b[39;49m\u001b[33;43m2\u001b[39;49m\u001b[33;43m\"\u001b[39;49m\n",
      "\u001b[31mTypeError\u001b[39m: unsupported operand type(s) for +: 'int' and 'str'"
     ]
    }
   ],
   "source": [
    "2 + \"2\""
   ]
  },
  {
   "cell_type": "code",
   "execution_count": null,
   "id": "3a61c585",
   "metadata": {},
   "outputs": [
    {
     "ename": "TypeError",
     "evalue": "can only concatenate list (not \"int\") to list",
     "output_type": "error",
     "traceback": [
      "\u001b[31m---------------------------------------------------------------------------\u001b[39m",
      "\u001b[31mTypeError\u001b[39m                                 Traceback (most recent call last)",
      "\u001b[36mCell\u001b[39m\u001b[36m \u001b[39m\u001b[32mIn[4]\u001b[39m\u001b[32m, line 1\u001b[39m\n\u001b[32m----> \u001b[39m\u001b[32m1\u001b[39m \u001b[43m[\u001b[49m\u001b[32;43m2\u001b[39;49m\u001b[43m]\u001b[49m\u001b[43m \u001b[49m\u001b[43m+\u001b[49m\u001b[43m \u001b[49m\u001b[32;43m2\u001b[39;49m\n",
      "\u001b[31mTypeError\u001b[39m: can only concatenate list (not \"int\") to list"
     ]
    }
   ],
   "source": [
    "[2] + 2"
   ]
  },
  {
   "cell_type": "code",
   "execution_count": null,
   "id": "b995896e",
   "metadata": {},
   "outputs": [
    {
     "data": {
      "text/plain": [
       "[2, 2]"
      ]
     },
     "execution_count": 5,
     "metadata": {},
     "output_type": "execute_result"
    }
   ],
   "source": [
    "[2] + [2]"
   ]
  },
  {
   "cell_type": "code",
   "execution_count": null,
   "id": "dde58cb9",
   "metadata": {},
   "outputs": [
    {
     "data": {
      "text/plain": [
       "[2, 2]"
      ]
     },
     "execution_count": 6,
     "metadata": {},
     "output_type": "execute_result"
    }
   ],
   "source": [
    "[2]*2"
   ]
  },
  {
   "cell_type": "code",
   "execution_count": null,
   "id": "898cf4f7",
   "metadata": {},
   "outputs": [
    {
     "data": {
      "text/plain": [
       "4"
      ]
     },
     "execution_count": 9,
     "metadata": {},
     "output_type": "execute_result"
    }
   ],
   "source": [
    "(2) + (2)"
   ]
  },
  {
   "cell_type": "markdown",
   "id": "e1f3461d",
   "metadata": {},
   "source": [
    "## Polymorphism in class methods"
   ]
  },
  {
   "cell_type": "code",
   "execution_count": null,
   "id": "815e6c79",
   "metadata": {},
   "outputs": [
    {
     "name": "stdout",
     "output_type": "stream",
     "text": [
      "I am a fish, my name is Fisky\n",
      "fish Fisky says blupp blupp\n",
      "I am a fish, my name is Goldy\n",
      "fish Goldy says blupp blupp\n",
      "I am a fox, my name is Ylvis, no one knows how I sound\n"
     ]
    }
   ],
   "source": [
    "class Fish:\n",
    "    def __init__(self, name):\n",
    "        self.name = name\n",
    "\n",
    "    def __str__(self):\n",
    "        return f\"I am a fish, my name is {self.name}\"\n",
    "\n",
    "    def speak(self):\n",
    "        print(f\"fish {self.name} says blupp blupp\")\n",
    "\n",
    "class Fox:\n",
    "    def __init__(self, name):\n",
    "        self.name = name\n",
    "\n",
    "    def __str__(self):\n",
    "        return f\"I am a fox, my name is {self.name}, no one knows how I sound\"\n",
    "    \n",
    "    def speak(self):\n",
    "        return NotImplemented\n",
    "    \n",
    "\n",
    "animals = [Fish(\"Fisky\"), Fish(\"Goldy\"), Fox(\"Ylvis\")]\n",
    "\n",
    "for animal in animals:\n",
    "    # using same method name, but behaves differently for different types\n",
    "    print(animal) # uses __str__() for both Fish and Fox\n",
    "    animal.speak() # uses speak for both Fish and Fox\n",
    "\n",
    "\n"
   ]
  },
  {
   "cell_type": "markdown",
   "id": "05b83034",
   "metadata": {},
   "source": [
    "## Operator overloading\n",
    "\n",
    "Ability to define and use custom behavior of operators for your objects. This is achieved by implementing dunder or special methods that correspond to that operator.\n",
    "\n",
    "- it gives additional functionality to an operator\n",
    "- e.g. + is overloaded for strings, int, float etc. \n",
    "\n",
    "<table style=\"display:inline-block; text-align:left;\">\n",
    "  <tr style=\"background-color: #174A7E; color: white;\">\n",
    "    <th>Operator</th>\n",
    "    <th>Dunder Method</th>\n",
    "  </tr>\n",
    "  <tr>\n",
    "    <td style=\"text-align: center;\">+</td>\n",
    "    <td style=\"text-align: center;\">__add__(self, other)</td>\n",
    "  </tr>\n",
    "  <tr>\n",
    "    <td style=\"text-align: center;\">-</td>\n",
    "    <td style=\"text-align: center;\">__sub__(self, other)</td>\n",
    "  </tr>\n",
    "  <tr>\n",
    "    <td style=\"text-align: center;\">*</td>\n",
    "    <td style=\"text-align: center;\">__mul__(self, other)</td>\n",
    "  </tr>\n",
    "  <tr>\n",
    "    <td style=\"text-align: center;\">/</td>\n",
    "    <td style=\"text-align: center;\">__div__(self, other)</td>\n",
    "  </tr>\n",
    "  <tr>\n",
    "    <td style=\"text-align: center;\">//</td>\n",
    "    <td style=\"text-align: center;\">__floordiv__(self, other)</td>\n",
    "  </tr>\n",
    "  <tr>\n",
    "    <td style=\"text-align: center;\">%</td>\n",
    "    <td style=\"text-align: center;\">__mod__(self, other)</td>\n",
    "  </tr>\n",
    "  <tr>\n",
    "    <td style=\"text-align: center;\">**</td>\n",
    "    <td style=\"text-align: center;\">__pow__(self, other)</td>\n",
    "  </tr>\n",
    "  <tr>\n",
    "    <td style=\"text-align: center;\"><</td>\n",
    "    <td style=\"text-align: center;\">__lt__(self, other)</td>\n",
    "  </tr>\n",
    "  <tr>\n",
    "    <td style=\"text-align: center;\"><=</td>\n",
    "    <td style=\"text-align: center;\">__le__(self, other)</td>\n",
    "  </tr>\n",
    "  <tr>\n",
    "    <td style=\"text-align: center;\">></td>\n",
    "    <td style=\"text-align: center;\">__gt__(self, other)</td>\n",
    "  </tr>\n",
    "  <tr>\n",
    "    <td style=\"text-align: center;\">>=</td>\n",
    "    <td style=\"text-align: center;\">__ge__(self, other)</td>\n",
    "  </tr>\n",
    "  <tr>\n",
    "    <td style=\"text-align: center;\">==</td>\n",
    "    <td style=\"text-align: center;\">__eq__(self, other)</td>\n",
    "  </tr>\n",
    "</table>\n",
    "\n",
    "\n",
    "- Note that there are more operators that can be overloaded than those specified in this list\n",
    "\n",
    "</div>"
   ]
  },
  {
   "cell_type": "markdown",
   "id": "1bd05ceb",
   "metadata": {},
   "source": [
    "## Vector"
   ]
  },
  {
   "cell_type": "code",
   "execution_count": null,
   "id": "174692eb",
   "metadata": {},
   "outputs": [
    {
     "name": "stdout",
     "output_type": "stream",
     "text": [
      "<class 'tuple'>\n",
      "(1, 2)\n",
      "<class 'tuple'>\n",
      "('1', 2)\n",
      "value must be number not <class 'str'>\n",
      "<class 'tuple'>\n",
      "()\n",
      "Vector can't be empty\n"
     ]
    }
   ],
   "source": [
    "from utils import validate_number\n",
    "\n",
    "class Vector:\n",
    "    \"\"\"A class representing a Euclidean vector\"\"\"\n",
    "    def __init__(self, *numbers):\n",
    "        print(type(numbers))\n",
    "        print(numbers)\n",
    "\n",
    "        for number in numbers:\n",
    "            validate_number(number)\n",
    "\n",
    "        if len(numbers) <= 0:\n",
    "            raise ValueError(\"Vector can't be empty\")\n",
    "\n",
    "        self._numbers = numbers\n",
    "    \n",
    "    @property\n",
    "    def numbers(self):\n",
    "        return self._numbers\n",
    "\n",
    "\n",
    "v1 = Vector(1,2)\n",
    "\n",
    "try:\n",
    "    v2 = Vector(\"1\",2)\n",
    "except TypeError as err:\n",
    "    print(err)\n",
    "\n",
    "try:\n",
    "    v2 = Vector()\n",
    "except ValueError as err:\n",
    "    print(err)\n",
    "\n"
   ]
  },
  {
   "cell_type": "code",
   "execution_count": 43,
   "id": "2bcd250e",
   "metadata": {},
   "outputs": [
    {
     "name": "stdout",
     "output_type": "stream",
     "text": [
      "len(v3) = 2\n",
      "len(v4) = 6\n",
      "v3 = Vector(1, 1)\n",
      "v5 = Vector(2, -1)\n",
      "v5+v3 = Vector(3, 0)\n",
      "v3+v5 = Vector(3, 0)\n",
      "v3-v5 = Vector(-1, 2)\n",
      "v4[-1] = 6\n",
      "v4[2:] = (41, 5, 2, 6)\n"
     ]
    },
    {
     "data": {
      "text/plain": [
       "Vector(5, 5)"
      ]
     },
     "execution_count": 43,
     "metadata": {},
     "output_type": "execute_result"
    }
   ],
   "source": [
    "from numbers import Number\n",
    "\n",
    "class Vector:\n",
    "    \"\"\"A class representing a Euclidean vector\"\"\"\n",
    "\n",
    "    def __init__(self, *numbers):\n",
    "\n",
    "        # validation\n",
    "        for number in numbers:\n",
    "            validate_number(number)\n",
    "\n",
    "        if len(numbers) <= 0:\n",
    "            raise ValueError(\"Vector can't be empty\")\n",
    "\n",
    "        self._numbers = numbers\n",
    "\n",
    "    # read-only\n",
    "    @property\n",
    "    def numbers(self) -> tuple:\n",
    "        return self._numbers\n",
    "\n",
    "    def __repr__(self):\n",
    "        return f\"Vector{self.numbers}\"\n",
    "\n",
    "    # operator overloading -> makes it possible to use len() function on Vector\n",
    "    def __len__(self) -> int:\n",
    "        # this len works on a tuple\n",
    "        return len(self.numbers)\n",
    "\n",
    "    # operator overloads plus operator\n",
    "    def __add__(self, other: Vector) -> Vector:\n",
    "        # validation code - stop addition of different vector dimensions\n",
    "\n",
    "        # elementwise addition between 2 tuples\n",
    "        numbers = (a + b for a, b in zip(self.numbers, other.numbers))\n",
    "        return Vector(*numbers)\n",
    "\n",
    "    \n",
    "    def __sub__(self, other: Vector) -> Vector:\n",
    "        # validation code - stop addition of different vector dimensions\n",
    "\n",
    "        # elementwise subtraction between 2 tuples\n",
    "        numbers = (a - b for a, b in zip(self.numbers, other.numbers))\n",
    "        return Vector(*numbers)\n",
    "\n",
    "    def __getitem__(self, item: int) -> Number:\n",
    "        return self.numbers[item]\n",
    "    \n",
    "    def __mul__(self, number: Number) -> Vector:\n",
    "        numbers = (number * a for a in self.numbers)\n",
    "        return Vector(*numbers)\n",
    "\n",
    "\n",
    "v3 = Vector(1, 1)\n",
    "v4 = Vector(1, 2, 41, 5, 2, 6)\n",
    "v5 = Vector(2, -1)\n",
    "\n",
    "print(f\"{len(v3) = }\")\n",
    "print(f\"{len(v4) = }\")\n",
    "print(f\"{v3 = }\")\n",
    "print(f\"{v5 = }\")\n",
    "print(f\"{v5+v3 = }\")\n",
    "print(f\"{v3+v5 = }\")\n",
    "print(f\"{v3-v5 = }\")\n",
    "print(f\"{v4[-1] = }\")\n",
    "print(f\"{v4[2:] = }\")\n",
    "v3 * 5"
   ]
  },
  {
   "cell_type": "code",
   "execution_count": 34,
   "id": "cb237b19",
   "metadata": {},
   "outputs": [
    {
     "data": {
      "text/plain": [
       "3"
      ]
     },
     "execution_count": 34,
     "metadata": {},
     "output_type": "execute_result"
    }
   ],
   "source": [
    "l1 = [1,2,3]\n",
    "l1[-1]"
   ]
  },
  {
   "cell_type": "code",
   "execution_count": 30,
   "id": "70e73825",
   "metadata": {},
   "outputs": [
    {
     "data": {
      "text/plain": [
       "Vector(2, 3)"
      ]
     },
     "execution_count": 30,
     "metadata": {},
     "output_type": "execute_result"
    }
   ],
   "source": [
    "v3 + v4"
   ]
  },
  {
   "cell_type": "code",
   "execution_count": 20,
   "id": "2dcd53ea",
   "metadata": {},
   "outputs": [
    {
     "name": "stdout",
     "output_type": "stream",
     "text": [
      "2\n"
     ]
    },
    {
     "data": {
      "text/plain": [
       "(2, 6)"
      ]
     },
     "execution_count": 20,
     "metadata": {},
     "output_type": "execute_result"
    }
   ],
   "source": [
    "print(len([1,2]))\n",
    "\n",
    "len(v3), len(v4)"
   ]
  },
  {
   "cell_type": "code",
   "execution_count": 26,
   "id": "d404392d",
   "metadata": {},
   "outputs": [
    {
     "name": "stdout",
     "output_type": "stream",
     "text": [
      "1 -1\n",
      "2 -2\n",
      "3 -3\n"
     ]
    }
   ],
   "source": [
    "for a,b in zip((1,2,3), (-1,-2,-3)):\n",
    "    print(a, b)"
   ]
  }
 ],
 "metadata": {
  "kernelspec": {
   "display_name": "python_code_along_DE25",
   "language": "python",
   "name": "python3"
  },
  "language_info": {
   "codemirror_mode": {
    "name": "ipython",
    "version": 3
   },
   "file_extension": ".py",
   "mimetype": "text/x-python",
   "name": "python",
   "nbconvert_exporter": "python",
   "pygments_lexer": "ipython3",
   "version": "3.11.8"
  }
 },
 "nbformat": 4,
 "nbformat_minor": 5
}
