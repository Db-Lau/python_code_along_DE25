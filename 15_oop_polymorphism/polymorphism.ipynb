{
 "cells": [
  {
   "cell_type": "markdown",
   "id": "9f1f21e9",
   "metadata": {},
   "source": [
    "# Polymorphism\n",
    "\n",
    "\"many shapes\"\n",
    "\n",
    "- same function name or operator used for different types \n",
    "- e.g. \n",
    "  - \"2\" + \"3\" -> \"23\"\n",
    "  - 2 + 3 -> 5\n",
    "\n",
    "in this example, the plus operator works different for different types, it has been operator overloaded\n"
   ]
  },
  {
   "cell_type": "markdown",
   "id": "e1f3461d",
   "metadata": {},
   "source": []
  }
 ],
 "metadata": {
  "kernelspec": {
   "display_name": "python_code_along_DE25",
   "language": "python",
   "name": "python3"
  },
  "language_info": {
   "name": "python",
   "version": "3.11.8"
  }
 },
 "nbformat": 4,
 "nbformat_minor": 5
}
