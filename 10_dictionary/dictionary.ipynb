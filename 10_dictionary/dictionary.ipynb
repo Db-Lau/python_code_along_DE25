{
 "cells": [
  {
   "cell_type": "markdown",
   "id": "561c08ce",
   "metadata": {},
   "source": [
    "# Dictionary\n",
    "- also a collection data type \n",
    "- the data is stored in key-value pairs"
   ]
  },
  {
   "cell_type": "markdown",
   "id": "99d87ab7",
   "metadata": {},
   "source": [
    "##### Create a dictionary with dict() class"
   ]
  },
  {
   "cell_type": "code",
   "execution_count": 1,
   "id": "c4454cf3",
   "metadata": {},
   "outputs": [],
   "source": [
    "# instantiate a dictionary object called persion \n",
    "person = dict(\n",
    "    name = \"Kokchun\",\n",
    "    age = 34.9,\n",
    "    work = \"teacher\"\n",
    ")"
   ]
  },
  {
   "cell_type": "code",
   "execution_count": 3,
   "id": "851fcd37",
   "metadata": {},
   "outputs": [
    {
     "name": "stdout",
     "output_type": "stream",
     "text": [
      "Kokchun\n",
      "teacher\n"
     ]
    }
   ],
   "source": [
    "# retrieve data from this dictionary\n",
    "# make use of the key for each value \n",
    "print(person['name']) # compare to indexing in a list like list_a[0]\n",
    "print(person['work'])\n"
   ]
  },
  {
   "cell_type": "markdown",
   "id": "7660f816",
   "metadata": {},
   "source": [
    "##### Create a dictionary with {}"
   ]
  },
  {
   "cell_type": "code",
   "execution_count": 6,
   "id": "1d15e658",
   "metadata": {},
   "outputs": [],
   "source": [
    "person = {\n",
    "          \"name\": \"Kokchun\",\n",
    "          \"age\": 34.9,\n",
    "          \"work\": \"teacher\",\n",
    "          \"interest\": [\"math\", \"python\", \"yoga\"], # the value in one key-value pair can be another collection data type\n",
    "          \"address\": {\"country\": \"Sweden\", \"city\": \"Stockholm\"}\n",
    "          }"
   ]
  },
  {
   "cell_type": "code",
   "execution_count": 5,
   "id": "f3eae38e",
   "metadata": {},
   "outputs": [
    {
     "name": "stdout",
     "output_type": "stream",
     "text": [
      "Kokchun\n",
      "teacher\n"
     ]
    }
   ],
   "source": [
    "print(person[\"name\"])\n",
    "print(person[\"work\"])"
   ]
  },
  {
   "cell_type": "code",
   "execution_count": 8,
   "id": "324c2bdf",
   "metadata": {},
   "outputs": [
    {
     "name": "stdout",
     "output_type": "stream",
     "text": [
      "['math', 'python', 'yoga']\n",
      "{'country': 'Sweden', 'city': 'Stockholm'}\n"
     ]
    }
   ],
   "source": [
    "print(person[\"interest\"])\n",
    "print(person[\"address\"])"
   ]
  },
  {
   "cell_type": "code",
   "execution_count": 10,
   "id": "ab663ce3",
   "metadata": {},
   "outputs": [
    {
     "name": "stdout",
     "output_type": "stream",
     "text": [
      "math\n",
      "Sweden\n"
     ]
    }
   ],
   "source": [
    "# only print one interest \n",
    "print(person[\"interest\"][0])\n",
    "\n",
    "# only print one info from the address\n",
    "print(person[\"address\"][\"country\"])"
   ]
  }
 ],
 "metadata": {
  "kernelspec": {
   "display_name": "python_code_along_DE25",
   "language": "python",
   "name": "python3"
  },
  "language_info": {
   "codemirror_mode": {
    "name": "ipython",
    "version": 3
   },
   "file_extension": ".py",
   "mimetype": "text/x-python",
   "name": "python",
   "nbconvert_exporter": "python",
   "pygments_lexer": "ipython3",
   "version": "3.12.6"
  }
 },
 "nbformat": 4,
 "nbformat_minor": 5
}
