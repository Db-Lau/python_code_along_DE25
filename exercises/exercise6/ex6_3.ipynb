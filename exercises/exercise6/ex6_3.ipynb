{
 "cells": [
  {
   "cell_type": "markdown",
   "id": "61099489",
   "metadata": {},
   "source": [
    "# Plotter library"
   ]
  },
  {
   "cell_type": "code",
   "execution_count": 6,
   "id": "c94544f0",
   "metadata": {},
   "outputs": [
    {
     "name": "stdout",
     "output_type": "stream",
     "text": [
      "x[:5] = array([0.       , 0.1010101, 0.2020202, 0.3030303, 0.4040404])\n",
      "x.shape = (100,)\n"
     ]
    }
   ],
   "source": [
    "import numpy as np\n",
    "\n",
    "\n",
    "class AnnotatePlot:\n",
    "    pass\n",
    "\n",
    "\n",
    "np.random.seed(42)\n",
    "x = np.linspace(0, 10, 100)\n",
    "y = 2 * x + 5 + np.random.normal(0, 2, size=len(x))\n",
    "\n",
    "print(f\"{x[:5] = }\")\n",
    "print(f\"{x.shape = }\")"
   ]
  },
  {
   "cell_type": "code",
   "execution_count": null,
   "id": "5bf81a5c",
   "metadata": {},
   "outputs": [],
   "source": [
    "annotate = AnnotatePlot(fig, ax)\n",
    "annotate.arrow(\"Big dip here\", (8, 10), (7.5, 14.8))"
   ]
  }
 ],
 "metadata": {
  "kernelspec": {
   "display_name": "python_code_along_DE25",
   "language": "python",
   "name": "python3"
  },
  "language_info": {
   "codemirror_mode": {
    "name": "ipython",
    "version": 3
   },
   "file_extension": ".py",
   "mimetype": "text/x-python",
   "name": "python",
   "nbconvert_exporter": "python",
   "pygments_lexer": "ipython3",
   "version": "3.11.8"
  }
 },
 "nbformat": 4,
 "nbformat_minor": 5
}
