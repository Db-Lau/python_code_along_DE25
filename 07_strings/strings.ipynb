{
 "cells": [
  {
   "cell_type": "markdown",
   "id": "a4ed9950",
   "metadata": {},
   "source": [
    "# Lecture 7 - strings\n",
    "- we have just created and printed out string type variable in lecture 4\n",
    "- this lecture is more about strings"
   ]
  },
  {
   "cell_type": "markdown",
   "id": "62e52c15",
   "metadata": {},
   "source": [
    "## Concatenate strings"
   ]
  },
  {
   "cell_type": "code",
   "execution_count": null,
   "id": "f19c4fbc",
   "metadata": {},
   "outputs": [
    {
     "name": "stdout",
     "output_type": "stream",
     "text": [
      "kokchunGiang\n"
     ]
    }
   ],
   "source": [
    "# concatenate multiple strings with + operator \n",
    "# remember + operator has another meaning when it comes to numeric variables\n",
    "\n",
    "firstname = \"kokchun\"\n",
    "lastname = \"Giang\"\n",
    "\n",
    "# concatenate without \" \"\n",
    "fullname = firstname + lastname\n",
    "print(fullname)\n"
   ]
  },
  {
   "cell_type": "code",
   "execution_count": 6,
   "id": "56bae717",
   "metadata": {},
   "outputs": [
    {
     "name": "stdout",
     "output_type": "stream",
     "text": [
      "kokchun Giang\n"
     ]
    }
   ],
   "source": [
    "# concatenate also with \" \"\n",
    "space = \" \"\n",
    "fullname_with_space = firstname + space + lastname # we can replace the space variable just with \" \"\n",
    "print(fullname_with_space)"
   ]
  },
  {
   "cell_type": "code",
   "execution_count": 16,
   "id": "055aa165",
   "metadata": {},
   "outputs": [
    {
     "name": "stdout",
     "output_type": "stream",
     "text": [
      "kokchun Giang is working in a company called AIginner AB. And his address is Supah cool streeeeeeeeeeeeeeeeto.\n",
      "kokchun Giang is working in a company called AIginner AB. \n",
      "      And his address is Supah cool streeeeeeeeeeeeeeeeto.\n"
     ]
    }
   ],
   "source": [
    "# multiline f-string for concatenating many strings\n",
    "work = \"AIginner AB\"\n",
    "adress = \"Supah cool streeeeeeeeeeeeeeeeto\"\n",
    "\n",
    "# f-string with one line\n",
    "print(f\"{fullname_with_space} is working in a company called {work}. And his address is {adress}.\")\n",
    "\n",
    "# f-string with multiline\n",
    "print(f\"\"\"{fullname_with_space} is working in a company called {work}. \n",
    "      And his address is {adress}.\"\"\")"
   ]
  },
  {
   "cell_type": "code",
   "execution_count": 21,
   "id": "d342e4e1",
   "metadata": {},
   "outputs": [
    {
     "name": "stdout",
     "output_type": "stream",
     "text": [
      "Today's fruits: apple, orange, strawberry\n",
      "apple\n",
      "orange\n",
      "strawberry\n"
     ]
    }
   ],
   "source": [
    "# concatenate with loop \n",
    "\n",
    "fruits_today = \"apple, \" + \"orange, \" + \"strawberry\"\n",
    "print(f\"Today's fruits: {fruits_today}\")\n",
    "\n",
    "fruits_today_list = [\"apple\", \"orange\", \"strawberry\"]\n",
    "for fruit in fruits_today_list:\n",
    "    print(fruit)\n"
   ]
  },
  {
   "cell_type": "markdown",
   "id": "30bbc62b",
   "metadata": {},
   "source": [
    "## Indexing\n",
    "- an operation to access \"an item\"\n",
    "- what is an item in the context of strings? it is one of the character inside the string\n",
    "- we can use [] operator for indexing\n",
    "- slicing is also possible if we want to access multiple characters\n",
    "- we can use : operator for slicing\n",
    "  "
   ]
  },
  {
   "cell_type": "code",
   "execution_count": 26,
   "id": "5e255d10",
   "metadata": {},
   "outputs": [
    {
     "name": "stdout",
     "output_type": "stream",
     "text": [
      "kokchun Giang\n",
      "The first letter of the string is: k\n",
      "The last letter is: g\n",
      "The last letter is: g\n"
     ]
    }
   ],
   "source": [
    "# index\n",
    "print(fullname_with_space)\n",
    "print(f\"The first letter of the string is: {fullname_with_space[0]}\")\n",
    "print(f\"The last letter is: {fullname_with_space[12]}\")\n",
    "print(f\"The last letter is: {fullname_with_space[-1]}\")"
   ]
  },
  {
   "cell_type": "code",
   "execution_count": 36,
   "id": "5cdd932b",
   "metadata": {},
   "outputs": [
    {
     "name": "stdout",
     "output_type": "stream",
     "text": [
      "The first five letters: kokch\n",
      "The last five letters: Giang\n",
      "The last five letters: gnaiG\n"
     ]
    }
   ],
   "source": [
    "# slicing (from the left)\n",
    "print(f\"The first five letters: {fullname_with_space[0:5]}\")\n",
    "print(f\"The last five letters: {fullname_with_space[-5:]}\")\n",
    "\n",
    "# slicing reversely\n",
    "print(f\"The last five letters: {fullname_with_space[-1:-6:-1]}\")\n",
    "\n"
   ]
  },
  {
   "cell_type": "markdown",
   "id": "2faf49f0",
   "metadata": {},
   "source": [
    "## Some common examples to clean strings\n",
    "- make use of string methods\n",
    "- a good introduction of many common string methods here: https://www.geeksforgeeks.org/python/python-string-methods/"
   ]
  },
  {
   "cell_type": "code",
   "execution_count": 42,
   "id": "edaa11cc",
   "metadata": {},
   "outputs": [
    {
     "data": {
      "text/plain": [
       "['Math', ' biology  ', ' cHemMistry ', ' PrOgramming    ']"
      ]
     },
     "execution_count": 42,
     "metadata": {},
     "output_type": "execute_result"
    }
   ],
   "source": [
    "# spliting a string\n",
    "\n",
    "subjects = \"Math, biology  , cHemMistry , PrOgramming    \"\n",
    "\n",
    "subjects = subjects.split(\",\")\n",
    "\n",
    "subjects"
   ]
  },
  {
   "cell_type": "code",
   "execution_count": null,
   "id": "a546c532",
   "metadata": {},
   "outputs": [
    {
     "name": "stdout",
     "output_type": "stream",
     "text": [
      "Math\n",
      "biology\n",
      "cHemMistry\n",
      "PrOgramming\n"
     ]
    }
   ],
   "source": [
    "# strip off leading and trailing space \n",
    "# check out also rstrip() and lstrip()\n",
    "for subject in subjects:\n",
    "    print(subject.strip())"
   ]
  },
  {
   "cell_type": "code",
   "execution_count": null,
   "id": "07f91f0a",
   "metadata": {},
   "outputs": [
    {
     "name": "stdout",
     "output_type": "stream",
     "text": [
      "MATH\n",
      "BIOLOGY\n",
      "CHEMMISTRY\n",
      "PROGRAMMING\n"
     ]
    }
   ],
   "source": [
    "# making upper case letter\n",
    "# checkout lower()\n",
    "\n",
    "for subject in subjects:\n",
    "    print(subject.strip().upper())\n"
   ]
  }
 ],
 "metadata": {
  "kernelspec": {
   "display_name": "python_code_along_DE25",
   "language": "python",
   "name": "python3"
  },
  "language_info": {
   "codemirror_mode": {
    "name": "ipython",
    "version": 3
   },
   "file_extension": ".py",
   "mimetype": "text/x-python",
   "name": "python",
   "nbconvert_exporter": "python",
   "pygments_lexer": "ipython3",
   "version": "3.12.6"
  }
 },
 "nbformat": 4,
 "nbformat_minor": 5
}
