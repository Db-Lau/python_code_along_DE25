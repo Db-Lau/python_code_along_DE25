{
 "cells": [
  {
   "cell_type": "markdown",
   "id": "a4ed9950",
   "metadata": {},
   "source": [
    "# Lecture 7 - strings\n",
    "- we have just created and printed out string type variable in lecture 4\n",
    "- this lecture is more about strings"
   ]
  },
  {
   "cell_type": "markdown",
   "id": "62e52c15",
   "metadata": {},
   "source": [
    "## Concatenate strings"
   ]
  },
  {
   "cell_type": "code",
   "execution_count": null,
   "id": "f19c4fbc",
   "metadata": {},
   "outputs": [
    {
     "name": "stdout",
     "output_type": "stream",
     "text": [
      "kokchunGiang\n"
     ]
    }
   ],
   "source": [
    "# concatenate multiple strings with + operator \n",
    "# remember + operator has another meaning when it comes to numeric variables\n",
    "\n",
    "firstname = \"kokchun\"\n",
    "lastname = \"Giang\"\n",
    "\n",
    "# concatenate without \" \"\n",
    "fullname = firstname + lastname\n",
    "print(fullname)\n"
   ]
  },
  {
   "cell_type": "code",
   "execution_count": 6,
   "id": "56bae717",
   "metadata": {},
   "outputs": [
    {
     "name": "stdout",
     "output_type": "stream",
     "text": [
      "kokchun Giang\n"
     ]
    }
   ],
   "source": [
    "# concatenate also with \" \"\n",
    "space = \" \"\n",
    "fullname_with_space = firstname + space + lastname # we can replace the space variable just with \" \"\n",
    "print(fullname_with_space)"
   ]
  },
  {
   "cell_type": "code",
   "execution_count": 16,
   "id": "055aa165",
   "metadata": {},
   "outputs": [
    {
     "name": "stdout",
     "output_type": "stream",
     "text": [
      "kokchun Giang is working in a company called AIginner AB. And his address is Supah cool streeeeeeeeeeeeeeeeto.\n",
      "kokchun Giang is working in a company called AIginner AB. \n",
      "      And his address is Supah cool streeeeeeeeeeeeeeeeto.\n"
     ]
    }
   ],
   "source": [
    "# multiline f-string for concatenating many strings\n",
    "work = \"AIginner AB\"\n",
    "adress = \"Supah cool streeeeeeeeeeeeeeeeto\"\n",
    "\n",
    "# f-string with one line\n",
    "print(f\"{fullname_with_space} is working in a company called {work}. And his address is {adress}.\")\n",
    "\n",
    "# f-string with multiline\n",
    "print(f\"\"\"{fullname_with_space} is working in a company called {work}. \n",
    "      And his address is {adress}.\"\"\")"
   ]
  },
  {
   "cell_type": "code",
   "execution_count": 21,
   "id": "d342e4e1",
   "metadata": {},
   "outputs": [
    {
     "name": "stdout",
     "output_type": "stream",
     "text": [
      "Today's fruits: apple, orange, strawberry\n",
      "apple\n",
      "orange\n",
      "strawberry\n"
     ]
    }
   ],
   "source": [
    "# concatenate with loop \n",
    "\n",
    "fruits_today = \"apple, \" + \"orange, \" + \"strawberry\"\n",
    "print(f\"Today's fruits: {fruits_today}\")\n",
    "\n",
    "fruits_today_list = [\"apple\", \"orange\", \"strawberry\"]\n",
    "for fruit in fruits_today_list:\n",
    "    print(fruit)\n"
   ]
  },
  {
   "cell_type": "markdown",
   "id": "30bbc62b",
   "metadata": {},
   "source": []
  }
 ],
 "metadata": {
  "kernelspec": {
   "display_name": "python_code_along_DE25",
   "language": "python",
   "name": "python3"
  },
  "language_info": {
   "codemirror_mode": {
    "name": "ipython",
    "version": 3
   },
   "file_extension": ".py",
   "mimetype": "text/x-python",
   "name": "python",
   "nbconvert_exporter": "python",
   "pygments_lexer": "ipython3",
   "version": "3.12.6"
  }
 },
 "nbformat": 4,
 "nbformat_minor": 5
}
