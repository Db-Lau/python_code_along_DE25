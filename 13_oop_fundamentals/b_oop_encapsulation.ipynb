{
 "cells": [
  {
   "cell_type": "markdown",
   "id": "60c281c3",
   "metadata": {},
   "source": [
    "# OOP encapsulation\n",
    "\n",
    "- information hiding \n",
    "- user don't need to know underlying how it works\n",
    "- for example we can hide validation - e.g. proper age for a person\n",
    "- user of your class needs to know how to use it - i.e. which methods and attributes can be used\n",
    "\n",
    "In general\n",
    "- one way to do encapsulation is to use private attributes and private methods\n",
    "  - these can't be accessed from outside of the class\n",
    "\n",
    "- however in python there is no such thing as private\n",
    "- in Python - private by convention by using a underscore prefix"
   ]
  },
  {
   "cell_type": "code",
   "execution_count": 1,
   "id": "7fb5642a",
   "metadata": {},
   "outputs": [
    {
     "data": {
      "text/plain": [
       "('Kokchun', 34)"
      ]
     },
     "execution_count": 1,
     "metadata": {},
     "output_type": "execute_result"
    }
   ],
   "source": [
    "# everything public\n",
    "\n",
    "class Person:\n",
    "    def __init__(self, name, age):\n",
    "        self.name = name\n",
    "        self.age = age\n",
    "\n",
    "p1 = Person(\"Kokchun\", 34)\n",
    "p1.name, p1.age\n"
   ]
  },
  {
   "cell_type": "code",
   "execution_count": 2,
   "id": "4d9793ff",
   "metadata": {},
   "outputs": [
    {
     "data": {
      "text/plain": [
       "-5"
      ]
     },
     "execution_count": 2,
     "metadata": {},
     "output_type": "execute_result"
    }
   ],
   "source": [
    "p2 = Person(\"Ada\", -5)\n",
    "p2.age"
   ]
  },
  {
   "cell_type": "markdown",
   "id": "5acbb40c",
   "metadata": {},
   "source": []
  }
 ],
 "metadata": {
  "kernelspec": {
   "display_name": "python_code_along_DE25",
   "language": "python",
   "name": "python3"
  },
  "language_info": {
   "codemirror_mode": {
    "name": "ipython",
    "version": 3
   },
   "file_extension": ".py",
   "mimetype": "text/x-python",
   "name": "python",
   "nbconvert_exporter": "python",
   "pygments_lexer": "ipython3",
   "version": "3.11.8"
  }
 },
 "nbformat": 4,
 "nbformat_minor": 5
}
