{
 "cells": [
  {
   "cell_type": "markdown",
   "id": "60c281c3",
   "metadata": {},
   "source": [
    "# OOP encapsulation\n",
    "\n",
    "- information hiding \n",
    "- user don't need to know underlying how it works\n",
    "- for example we can hide validation - e.g. proper age for a person\n",
    "- user of your class needs to know how to use it - i.e. which methods and attributes can be used\n",
    "\n",
    "In general\n",
    "- one way to do encapsulation is to use private attributes and private methods\n",
    "  - these can't be accessed from outside of the class\n",
    "\n",
    "- however in python there is no such thing as private\n",
    "- in Python - private by convention by using a underscore prefix"
   ]
  },
  {
   "cell_type": "markdown",
   "id": "5acbb40c",
   "metadata": {},
   "source": []
  }
 ],
 "metadata": {
  "kernelspec": {
   "display_name": "python_code_along_DE25",
   "language": "python",
   "name": "python3"
  },
  "language_info": {
   "name": "python",
   "version": "3.11.8"
  }
 },
 "nbformat": 4,
 "nbformat_minor": 5
}
