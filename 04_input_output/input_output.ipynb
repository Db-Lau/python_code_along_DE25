{
 "cells": [
  {
   "cell_type": "markdown",
   "id": "47136b52",
   "metadata": {},
   "source": [
    "# Lecture 4 - input, output & variables "
   ]
  },
  {
   "cell_type": "markdown",
   "id": "e71ab4a3",
   "metadata": {},
   "source": [
    "## Print statement"
   ]
  },
  {
   "cell_type": "markdown",
   "id": "b748e9fd",
   "metadata": {},
   "source": [
    "##### To print out string"
   ]
  },
  {
   "cell_type": "code",
   "execution_count": null,
   "id": "34093865",
   "metadata": {},
   "outputs": [
    {
     "name": "stdout",
     "output_type": "stream",
     "text": [
      "Hello Debbie!\n"
     ]
    }
   ],
   "source": [
    "# you can use hashtag to comment out lines of codes \n",
    "print(\"Hello Debbie!\")"
   ]
  },
  {
   "cell_type": "markdown",
   "id": "51ac6ac1",
   "metadata": {},
   "source": [
    "##### To print out string and variables"
   ]
  },
  {
   "cell_type": "code",
   "execution_count": 10,
   "id": "ba97c3d2",
   "metadata": {},
   "outputs": [
    {
     "name": "stdout",
     "output_type": "stream",
     "text": [
      "Hello Kokchun\n"
     ]
    }
   ],
   "source": [
    "# create a name variable\n",
    "name = \"Kokchun\"\n",
    "\n",
    "# print out hello to this person specified in the variable name\n",
    "# when printing string and variables together, we need to use f-string\n",
    "# f-string is used to combine string and variables together\n",
    "# make note of the symbol: f, {}\n",
    "print(f\"Hello {name}\") "
   ]
  },
  {
   "cell_type": "markdown",
   "id": "a617eb6b",
   "metadata": {},
   "source": [
    "## Variables\n",
    "- you can store different types of data in the variable --> assigning value to variable \n",
    "- we can use the data by referring to the variable instead\n",
    "- in lecture 4, we are see variables storing one value, even though the value can be of different types\n",
    "- in lecture 6, we will see that we can store a collection of values (list, tuple, sets, dictionary)"
   ]
  },
  {
   "cell_type": "markdown",
   "id": "aa6eb8af",
   "metadata": {},
   "source": [
    "##### create variables with different data types"
   ]
  },
  {
   "cell_type": "code",
   "execution_count": null,
   "id": "cc747e01",
   "metadata": {},
   "outputs": [],
   "source": [
    "#string\n",
    "first_name = \"Kokchun\"\n",
    "\n",
    "#integer\n",
    "height = 200\n",
    "\n",
    "#float, number with decimal places\n",
    "exact_height = 200.1688999"
   ]
  },
  {
   "cell_type": "markdown",
   "id": "75292602",
   "metadata": {},
   "source": [
    "##### print out a message using all these variables with different data types"
   ]
  },
  {
   "cell_type": "code",
   "execution_count": 15,
   "id": "ff898203",
   "metadata": {},
   "outputs": [
    {
     "name": "stdout",
     "output_type": "stream",
     "text": [
      "The teacher's name is Kokchun. His height is 200cm, or more specifically 200.1688999cm.\n"
     ]
    }
   ],
   "source": [
    "print(f\"The teacher's name is {first_name}. His height is {height}cm, or more specifically {exact_height}cm.\")"
   ]
  },
  {
   "cell_type": "markdown",
   "id": "0ea9e8cf",
   "metadata": {},
   "source": [
    "##### format in f-string \n",
    "- it does not create another variable\n",
    "- it just affects how the current variable is displayed in f-string"
   ]
  },
  {
   "cell_type": "code",
   "execution_count": null,
   "id": "f968702d",
   "metadata": {},
   "outputs": [
    {
     "name": "stdout",
     "output_type": "stream",
     "text": [
      "The exact height is 200.169cm.\n",
      "The value assigned to exact_height variable is still 200.1688999\n"
     ]
    }
   ],
   "source": [
    "# use : to separate the variable and the choice of format (format code)\n",
    "# .1f means after the integer, keep one decimal place (f refers to fixed point number= float number)\n",
    "print(f\"The exact height is {exact_height:.3f}cm.\")\n",
    "print(f\"The value assigned to exact_height variable is still {exact_height}\")"
   ]
  },
  {
   "cell_type": "markdown",
   "id": "eb093223",
   "metadata": {},
   "source": [
    "##### one additional data type, boolean (bool)"
   ]
  },
  {
   "cell_type": "code",
   "execution_count": null,
   "id": "943dcc0b",
   "metadata": {},
   "outputs": [],
   "source": [
    "# str\n",
    "name = \"Kokchun\"\n",
    "\n",
    "# int\n",
    "height = 200\n",
    "\n",
    "# float\n",
    "exact_height = 200.1\n",
    "\n",
    "# bool \n",
    "is_teacher = True #alternatively, we can put False for a boolean value"
   ]
  },
  {
   "cell_type": "code",
   "execution_count": 39,
   "id": "39f74743",
   "metadata": {},
   "outputs": [
    {
     "data": {
      "text/plain": [
       "bool"
      ]
     },
     "execution_count": 39,
     "metadata": {},
     "output_type": "execute_result"
    }
   ],
   "source": [
    "# check the data type of bool variable\n",
    "type(is_teacher)"
   ]
  },
  {
   "cell_type": "markdown",
   "id": "a9694870",
   "metadata": {},
   "source": [
    "## Inputs from users\n",
    "- how to code so that the value of the variable is decided after I run the code?"
   ]
  },
  {
   "cell_type": "markdown",
   "id": "1b395348",
   "metadata": {},
   "source": [
    "##### example 1 - name variable"
   ]
  },
  {
   "cell_type": "code",
   "execution_count": null,
   "id": "59523541",
   "metadata": {},
   "outputs": [],
   "source": [
    "# create a name variable asking for user input\n",
    "# optionally, you can add an argument in the input() function, so that it pops up a question when running this cell\n",
    "name = input(\"What is your first name?\")"
   ]
  },
  {
   "cell_type": "code",
   "execution_count": 20,
   "id": "bf8e6eb5",
   "metadata": {},
   "outputs": [
    {
     "name": "stdout",
     "output_type": "stream",
     "text": [
      "Hello Kokchun\n"
     ]
    }
   ],
   "source": [
    "# print out a f-string\n",
    "print(f\"Hello {name}\")"
   ]
  },
  {
   "cell_type": "code",
   "execution_count": 21,
   "id": "9a59d031",
   "metadata": {},
   "outputs": [
    {
     "data": {
      "text/plain": [
       "str"
      ]
     },
     "execution_count": 21,
     "metadata": {},
     "output_type": "execute_result"
    }
   ],
   "source": [
    "# check the data type of a variable\n",
    "type(name)"
   ]
  },
  {
   "cell_type": "markdown",
   "id": "e45046e5",
   "metadata": {},
   "source": [
    "##### example 2 - age variable\n",
    "- compare this with example 1, you can see that input() function always returns string variable"
   ]
  },
  {
   "cell_type": "code",
   "execution_count": 27,
   "id": "05d86e6a",
   "metadata": {},
   "outputs": [],
   "source": [
    "age = input(\"What is your age?\")"
   ]
  },
  {
   "cell_type": "code",
   "execution_count": 24,
   "id": "c3314c35",
   "metadata": {},
   "outputs": [
    {
     "data": {
      "text/plain": [
       "str"
      ]
     },
     "execution_count": 24,
     "metadata": {},
     "output_type": "execute_result"
    }
   ],
   "source": [
    "type(age)"
   ]
  },
  {
   "cell_type": "markdown",
   "id": "c1701f68",
   "metadata": {},
   "source": [
    "## Type coercions \n",
    "- converting data types from one to another\n",
    "- applies on variable in general, not just when using input() function"
   ]
  },
  {
   "cell_type": "code",
   "execution_count": 34,
   "id": "70aeb01c",
   "metadata": {},
   "outputs": [
    {
     "name": "stdout",
     "output_type": "stream",
     "text": [
      "<class 'str'>\n",
      "34\n"
     ]
    },
    {
     "data": {
      "text/plain": [
       "'34'"
      ]
     },
     "execution_count": 34,
     "metadata": {},
     "output_type": "execute_result"
    }
   ],
   "source": [
    "# double check the data type and value for the existing age variable\n",
    "\n",
    "# as by default, .ipynb file cell only shows output from the last line of code, therefore, you can use print() to force it to print out other lines\n",
    "print(type(age)) \n",
    "\n",
    "# compare the follow two lines, they show print() function is not showing the exact value of this variable\n",
    "print(age)\n",
    "age"
   ]
  },
  {
   "cell_type": "code",
   "execution_count": 35,
   "id": "86a55c7d",
   "metadata": {},
   "outputs": [
    {
     "data": {
      "text/plain": [
       "int"
      ]
     },
     "execution_count": 35,
     "metadata": {},
     "output_type": "execute_result"
    }
   ],
   "source": [
    "# convert to int and create a new variable for this\n",
    "age_int = int(age)\n",
    "\n",
    "# check the resulting data type for age_int, the variable after type coercion\n",
    "type(age_int)"
   ]
  },
  {
   "cell_type": "code",
   "execution_count": null,
   "id": "8ea26f79",
   "metadata": {},
   "outputs": [],
   "source": [
    "# convert to int and overwrite the existing variable\n",
    "age = int(age)\n",
    "\n",
    "type(age)"
   ]
  }
 ],
 "metadata": {
  "kernelspec": {
   "display_name": "python_code_along_DE25",
   "language": "python",
   "name": "python3"
  },
  "language_info": {
   "codemirror_mode": {
    "name": "ipython",
    "version": 3
   },
   "file_extension": ".py",
   "mimetype": "text/x-python",
   "name": "python",
   "nbconvert_exporter": "python",
   "pygments_lexer": "ipython3",
   "version": "3.12.6"
  }
 },
 "nbformat": 4,
 "nbformat_minor": 5
}
