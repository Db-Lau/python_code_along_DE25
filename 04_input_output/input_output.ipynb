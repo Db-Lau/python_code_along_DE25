{
 "cells": [
  {
   "cell_type": "markdown",
   "id": "47136b52",
   "metadata": {},
   "source": [
    "# Lecture 4 - input, output & variables "
   ]
  },
  {
   "cell_type": "markdown",
   "id": "e71ab4a3",
   "metadata": {},
   "source": [
    "## Print statement"
   ]
  },
  {
   "cell_type": "markdown",
   "id": "b748e9fd",
   "metadata": {},
   "source": [
    "##### To print out string"
   ]
  },
  {
   "cell_type": "code",
   "execution_count": null,
   "id": "34093865",
   "metadata": {},
   "outputs": [
    {
     "name": "stdout",
     "output_type": "stream",
     "text": [
      "Hello Debbie!\n"
     ]
    }
   ],
   "source": [
    "# you can use hashtag to comment out lines of codes \n",
    "print(\"Hello Debbie!\")"
   ]
  },
  {
   "cell_type": "markdown",
   "id": "51ac6ac1",
   "metadata": {},
   "source": [
    "##### To print out string and variables"
   ]
  },
  {
   "cell_type": "code",
   "execution_count": 10,
   "id": "ba97c3d2",
   "metadata": {},
   "outputs": [
    {
     "name": "stdout",
     "output_type": "stream",
     "text": [
      "Hello Kokchun\n"
     ]
    }
   ],
   "source": [
    "# create a name variable\n",
    "name = \"Kokchun\"\n",
    "\n",
    "# print out hello to this person specified in the variable name\n",
    "# when printing string and variables together, we need to use f-string\n",
    "# f-string is used to combine string and variables together\n",
    "# make note of the symbol: f, {}\n",
    "print(f\"Hello {name}\") "
   ]
  },
  {
   "cell_type": "markdown",
   "id": "a617eb6b",
   "metadata": {},
   "source": [
    "## Variables\n",
    "- you can store different types of data in the variable --> assigning value to variable \n",
    "- we can use the data by referring to the variable instead\n",
    "- in lecture 4, we are see variables storing one value, even though the value can be of different types\n",
    "- in lecture 6, we will see that we can store a collection of values "
   ]
  },
  {
   "cell_type": "markdown",
   "id": "aa6eb8af",
   "metadata": {},
   "source": [
    "##### create variables with different data types"
   ]
  },
  {
   "cell_type": "code",
   "execution_count": 11,
   "id": "cc747e01",
   "metadata": {},
   "outputs": [],
   "source": [
    "#string\n",
    "first_name = \"Kokchun\"\n",
    "\n",
    "#numeric\n",
    "height = 200\n",
    "\n",
    "#float, number with decimal places\n",
    "exact_height = 200.1"
   ]
  },
  {
   "cell_type": "markdown",
   "id": "75292602",
   "metadata": {},
   "source": [
    "##### print out a message using all these variables with different data types"
   ]
  },
  {
   "cell_type": "code",
   "execution_count": 12,
   "id": "ff898203",
   "metadata": {},
   "outputs": [
    {
     "name": "stdout",
     "output_type": "stream",
     "text": [
      "The teacher's name is Kokchun. His height is 200cm, or more specifically 200.1cm.\n"
     ]
    }
   ],
   "source": [
    "print(f\"The teacher's name is {first_name}. His height is {height}cm, or more specifically {exact_height}cm.\")"
   ]
  },
  {
   "cell_type": "markdown",
   "id": "0ea9e8cf",
   "metadata": {},
   "source": [
    "##### further formating on the variables "
   ]
  },
  {
   "cell_type": "markdown",
   "id": "a9694870",
   "metadata": {},
   "source": [
    "## Inputs from users"
   ]
  },
  {
   "cell_type": "markdown",
   "id": "59523541",
   "metadata": {},
   "source": []
  }
 ],
 "metadata": {
  "kernelspec": {
   "display_name": "python_code_along_DE25",
   "language": "python",
   "name": "python3"
  },
  "language_info": {
   "codemirror_mode": {
    "name": "ipython",
    "version": 3
   },
   "file_extension": ".py",
   "mimetype": "text/x-python",
   "name": "python",
   "nbconvert_exporter": "python",
   "pygments_lexer": "ipython3",
   "version": "3.12.6"
  }
 },
 "nbformat": 4,
 "nbformat_minor": 5
}
