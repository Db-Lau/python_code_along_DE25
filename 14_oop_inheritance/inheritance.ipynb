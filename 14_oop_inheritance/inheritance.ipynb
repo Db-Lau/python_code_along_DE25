{
 "cells": [
  {
   "cell_type": "markdown",
   "id": "245e019c",
   "metadata": {},
   "source": [
    "# Inheritance"
   ]
  },
  {
   "cell_type": "code",
   "execution_count": null,
   "id": "54424cff",
   "metadata": {},
   "outputs": [
    {
     "name": "stdout",
     "output_type": "stream",
     "text": [
      "property 'name' of 'Person' object has no setter\n",
      "Örjan\n"
     ]
    }
   ],
   "source": [
    "\n",
    "class Person:\n",
    "    def __init__(self, name: str, age: int):\n",
    "        self._name = name\n",
    "        self.age = age\n",
    "\n",
    "    @property\n",
    "    def name(self):\n",
    "        return self._name\n",
    "    \n",
    "    @property\n",
    "    def age(self):\n",
    "        return self._age\n",
    "    \n",
    "    @age.setter\n",
    "    def age(self, value: int):\n",
    "        if not isinstance(value, int):\n",
    "            raise TypeError(f\"age must be of type, int not {type(value)}\")\n",
    "\n",
    "        if value < 0 or value > 124:\n",
    "            raise ValueError(f\"age must be between 0 and 123, not {value}\")\n",
    "        \n",
    "        self._age = value\n",
    "    \n",
    "p1 = Person(\"Örjan\", 25)\n",
    "\n",
    "try:\n",
    "    # setter not defined\n",
    "    p1.name = \"Börje\"\n",
    "except AttributeError as err:\n",
    "    print(err)\n",
    "\n",
    "# used getter\n",
    "print(p1.name)"
   ]
  },
  {
   "cell_type": "code",
   "execution_count": 12,
   "id": "21eba57a",
   "metadata": {},
   "outputs": [
    {
     "name": "stdout",
     "output_type": "stream",
     "text": [
      "age must be between 0 and 123, not -5\n"
     ]
    },
    {
     "ename": "TypeError",
     "evalue": "'<' not supported between instances of 'str' and 'int'",
     "output_type": "error",
     "traceback": [
      "\u001b[31m---------------------------------------------------------------------------\u001b[39m",
      "\u001b[31mTypeError\u001b[39m                                 Traceback (most recent call last)",
      "\u001b[36mCell\u001b[39m\u001b[36m \u001b[39m\u001b[32mIn[12]\u001b[39m\u001b[32m, line 6\u001b[39m\n\u001b[32m      3\u001b[39m \u001b[38;5;28;01mexcept\u001b[39;00m \u001b[38;5;167;01mValueError\u001b[39;00m \u001b[38;5;28;01mas\u001b[39;00m err:\n\u001b[32m      4\u001b[39m     \u001b[38;5;28mprint\u001b[39m(err)\n\u001b[32m----> \u001b[39m\u001b[32m6\u001b[39m p3 = \u001b[43mPerson\u001b[49m\u001b[43m(\u001b[49m\u001b[33;43m\"\u001b[39;49m\u001b[33;43mDoddo\u001b[39;49m\u001b[33;43m\"\u001b[39;49m\u001b[43m,\u001b[49m\u001b[43m \u001b[49m\u001b[43mage\u001b[49m\u001b[43m \u001b[49m\u001b[43m=\u001b[49m\u001b[43m \u001b[49m\u001b[33;43m\"\u001b[39;49m\u001b[33;43mfemtio\u001b[39;49m\u001b[33;43m\"\u001b[39;49m\u001b[43m)\u001b[49m\n",
      "\u001b[36mCell\u001b[39m\u001b[36m \u001b[39m\u001b[32mIn[9]\u001b[39m\u001b[32m, line 4\u001b[39m, in \u001b[36mPerson.__init__\u001b[39m\u001b[34m(self, name, age)\u001b[39m\n\u001b[32m      2\u001b[39m \u001b[38;5;28;01mdef\u001b[39;00m\u001b[38;5;250m \u001b[39m\u001b[34m__init__\u001b[39m(\u001b[38;5;28mself\u001b[39m, name: \u001b[38;5;28mstr\u001b[39m, age: \u001b[38;5;28mint\u001b[39m):\n\u001b[32m      3\u001b[39m     \u001b[38;5;28mself\u001b[39m._name = name\n\u001b[32m----> \u001b[39m\u001b[32m4\u001b[39m     \u001b[38;5;28;43mself\u001b[39;49m\u001b[43m.\u001b[49m\u001b[43mage\u001b[49m = age\n",
      "\u001b[36mCell\u001b[39m\u001b[36m \u001b[39m\u001b[32mIn[9]\u001b[39m\u001b[32m, line 16\u001b[39m, in \u001b[36mPerson.age\u001b[39m\u001b[34m(self, value)\u001b[39m\n\u001b[32m     14\u001b[39m \u001b[38;5;129m@age\u001b[39m.setter\n\u001b[32m     15\u001b[39m \u001b[38;5;28;01mdef\u001b[39;00m\u001b[38;5;250m \u001b[39m\u001b[34mage\u001b[39m(\u001b[38;5;28mself\u001b[39m, value: \u001b[38;5;28mint\u001b[39m):\n\u001b[32m---> \u001b[39m\u001b[32m16\u001b[39m     \u001b[38;5;28;01mif\u001b[39;00m \u001b[43mvalue\u001b[49m\u001b[43m \u001b[49m\u001b[43m<\u001b[49m\u001b[43m \u001b[49m\u001b[32;43m0\u001b[39;49m \u001b[38;5;129;01mor\u001b[39;00m value > \u001b[32m124\u001b[39m:\n\u001b[32m     17\u001b[39m         \u001b[38;5;28;01mraise\u001b[39;00m \u001b[38;5;167;01mValueError\u001b[39;00m(\u001b[33mf\u001b[39m\u001b[33m\"\u001b[39m\u001b[33mage must be between 0 and 123, not \u001b[39m\u001b[38;5;132;01m{\u001b[39;00mvalue\u001b[38;5;132;01m}\u001b[39;00m\u001b[33m\"\u001b[39m)\n\u001b[32m     19\u001b[39m     \u001b[38;5;28mself\u001b[39m._age = value\n",
      "\u001b[31mTypeError\u001b[39m: '<' not supported between instances of 'str' and 'int'"
     ]
    }
   ],
   "source": [
    "try: \n",
    "    p2 = Person(\"Ceda\", age = -5)\n",
    "except ValueError as err:\n",
    "    print(err)\n",
    "\n",
    "p3 = Person(\"Doddo\", age = \"femtio\")\n"
   ]
  },
  {
   "cell_type": "markdown",
   "id": "62daf339",
   "metadata": {},
   "source": []
  }
 ],
 "metadata": {
  "kernelspec": {
   "display_name": "python_code_along_DE25",
   "language": "python",
   "name": "python3"
  },
  "language_info": {
   "codemirror_mode": {
    "name": "ipython",
    "version": 3
   },
   "file_extension": ".py",
   "mimetype": "text/x-python",
   "name": "python",
   "nbconvert_exporter": "python",
   "pygments_lexer": "ipython3",
   "version": "3.11.8"
  }
 },
 "nbformat": 4,
 "nbformat_minor": 5
}
