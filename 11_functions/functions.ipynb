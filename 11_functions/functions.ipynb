{
 "cells": [
  {
   "cell_type": "markdown",
   "id": "d0bd4d59",
   "metadata": {},
   "source": [
    "# Lecture 11 - Functions\n",
    "- for reusable code "
   ]
  },
  {
   "cell_type": "markdown",
   "id": "a53970df",
   "metadata": {},
   "source": [
    "##### Create a function and understand terminology"
   ]
  },
  {
   "cell_type": "code",
   "execution_count": null,
   "id": "b66963e7",
   "metadata": {},
   "outputs": [],
   "source": [
    "# create a simple example of function\n",
    "def squarer(x): # use keyword def; squarer is the function name; x is the parameter\n",
    "    result = x**2 # statement\n",
    "    return result # return block defines the output"
   ]
  },
  {
   "cell_type": "code",
   "execution_count": null,
   "id": "cf561c83",
   "metadata": {},
   "outputs": [
    {
     "data": {
      "text/plain": [
       "4"
      ]
     },
     "execution_count": 2,
     "metadata": {},
     "output_type": "execute_result"
    }
   ],
   "source": [
    "# call for a function \n",
    "squarer(2) # cite the function; () is the callable; argument"
   ]
  },
  {
   "cell_type": "code",
   "execution_count": 5,
   "id": "da217a83",
   "metadata": {},
   "outputs": [
    {
     "data": {
      "text/plain": [
       "1"
      ]
     },
     "execution_count": 5,
     "metadata": {},
     "output_type": "execute_result"
    }
   ],
   "source": [
    "squarer(1)"
   ]
  },
  {
   "cell_type": "markdown",
   "id": "4ce7afed",
   "metadata": {},
   "source": [
    "##### Positional arguments"
   ]
  },
  {
   "cell_type": "code",
   "execution_count": 6,
   "id": "ea4868f1",
   "metadata": {},
   "outputs": [],
   "source": [
    "def my_fruits(fruit_like, fruit_hate):\n",
    "    print(f\"I like to eat {fruit_like}\")\n",
    "    print(f\"But I hate to eat {fruit_hate}\")\n",
    "    return None # python will add this line if you don't have return block"
   ]
  },
  {
   "cell_type": "code",
   "execution_count": null,
   "id": "dd386f37",
   "metadata": {},
   "outputs": [
    {
     "name": "stdout",
     "output_type": "stream",
     "text": [
      "I like to eat apple\n",
      "But I hate to eat orange\n"
     ]
    }
   ],
   "source": [
    "# suppose I like to eat orange and hate to eat apple\n",
    "# check out what is the problem in the order of the arguments below\n",
    "my_fruits(\"apple\", \"orange\")"
   ]
  },
  {
   "cell_type": "markdown",
   "id": "01c9311b",
   "metadata": {},
   "source": [
    "##### Keyword arguments"
   ]
  },
  {
   "cell_type": "code",
   "execution_count": null,
   "id": "2867ecf4",
   "metadata": {},
   "outputs": [
    {
     "name": "stdout",
     "output_type": "stream",
     "text": [
      "I like to eat orange\n",
      "But I hate to eat apple\n"
     ]
    }
   ],
   "source": [
    "# if you don't want to depend on the positions of arguments, provide also the parameter names also\n",
    "my_fruits(fruit_hate=\"apple\", fruit_like=\"orange\")"
   ]
  },
  {
   "cell_type": "code",
   "execution_count": null,
   "id": "ed9d9ef2",
   "metadata": {},
   "outputs": [
    {
     "ename": "TypeError",
     "evalue": "my_fruits() takes 2 positional arguments but 3 were given",
     "output_type": "error",
     "traceback": [
      "\u001b[31m---------------------------------------------------------------------------\u001b[39m",
      "\u001b[31mTypeError\u001b[39m                                 Traceback (most recent call last)",
      "\u001b[36mCell\u001b[39m\u001b[36m \u001b[39m\u001b[32mIn[9]\u001b[39m\u001b[32m, line 2\u001b[39m\n\u001b[32m      1\u001b[39m \u001b[38;5;66;03m# what if I provide three fruits\u001b[39;00m\n\u001b[32m----> \u001b[39m\u001b[32m2\u001b[39m \u001b[43mmy_fruits\u001b[49m\u001b[43m(\u001b[49m\u001b[33;43m\"\u001b[39;49m\u001b[33;43mapple\u001b[39;49m\u001b[33;43m\"\u001b[39;49m\u001b[43m,\u001b[49m\u001b[43m \u001b[49m\u001b[33;43m\"\u001b[39;49m\u001b[33;43morange\u001b[39;49m\u001b[33;43m\"\u001b[39;49m\u001b[43m,\u001b[49m\u001b[43m \u001b[49m\u001b[33;43m\"\u001b[39;49m\u001b[33;43mstrawberry\u001b[39;49m\u001b[33;43m\"\u001b[39;49m\u001b[43m)\u001b[49m\n",
      "\u001b[31mTypeError\u001b[39m: my_fruits() takes 2 positional arguments but 3 were given"
     ]
    }
   ],
   "source": [
    "# what if I provide three fruits\n",
    "# due to the errors, we need to think about other ways to take care of unknown number of arguments\n",
    "my_fruits(\"apple\", \"orange\", \"strawberry\")"
   ]
  },
  {
   "cell_type": "markdown",
   "id": "cbefbde3",
   "metadata": {},
   "source": [
    "##### Unknown number of positional arguments"
   ]
  },
  {
   "cell_type": "code",
   "execution_count": 14,
   "id": "519f0716",
   "metadata": {},
   "outputs": [],
   "source": [
    "# suppose that I want to print out all fruits that are inputed as arguments to a function\n",
    "# we will use a symbol * in the parameter \n",
    "\n",
    "def print_fruits(*fruits): # * has two meanings: positional arguments, the nr of arguments will be unknown\n",
    "    for fruit in fruits:\n",
    "        print(fruit)\n",
    "    return type(fruits)"
   ]
  },
  {
   "cell_type": "code",
   "execution_count": 15,
   "id": "19c6af47",
   "metadata": {},
   "outputs": [
    {
     "name": "stdout",
     "output_type": "stream",
     "text": [
      "apple\n",
      "orange\n",
      "kiwi\n",
      "strawberry\n"
     ]
    },
    {
     "data": {
      "text/plain": [
       "tuple"
      ]
     },
     "execution_count": 15,
     "metadata": {},
     "output_type": "execute_result"
    }
   ],
   "source": [
    "print_fruits(\"apple\", \"orange\", \"kiwi\", \"strawberry\")"
   ]
  },
  {
   "cell_type": "markdown",
   "id": "dad01596",
   "metadata": {},
   "source": [
    "##### Unknown number of keyword arguments"
   ]
  },
  {
   "cell_type": "code",
   "execution_count": 16,
   "id": "5476a9aa",
   "metadata": {},
   "outputs": [],
   "source": [
    "def print_nr_fruits(**fruits):\n",
    "    for key, value in fruits.items():\n",
    "        print(key, value)\n",
    "    return type(fruits)"
   ]
  },
  {
   "cell_type": "code",
   "execution_count": 17,
   "id": "b742b88b",
   "metadata": {},
   "outputs": [
    {
     "name": "stdout",
     "output_type": "stream",
     "text": [
      "fruit1 orange\n",
      "fruit2 apple\n"
     ]
    },
    {
     "data": {
      "text/plain": [
       "dict"
      ]
     },
     "execution_count": 17,
     "metadata": {},
     "output_type": "execute_result"
    }
   ],
   "source": [
    "print_nr_fruits(fruit1=\"orange\", fruit2=\"apple\") # key is provided when calling for the function"
   ]
  }
 ],
 "metadata": {
  "kernelspec": {
   "display_name": "python_code_along_DE25",
   "language": "python",
   "name": "python3"
  },
  "language_info": {
   "codemirror_mode": {
    "name": "ipython",
    "version": 3
   },
   "file_extension": ".py",
   "mimetype": "text/x-python",
   "name": "python",
   "nbconvert_exporter": "python",
   "pygments_lexer": "ipython3",
   "version": "3.12.6"
  }
 },
 "nbformat": 4,
 "nbformat_minor": 5
}
