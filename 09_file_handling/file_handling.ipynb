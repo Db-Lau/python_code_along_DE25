{
 "cells": [
  {
   "cell_type": "markdown",
   "id": "4ab1eb9e",
   "metadata": {},
   "source": [
    "# Lecture 9 - File Handling\n",
    "- reading text files (.txt)\n",
    "- we need to \n",
    "  - read the file\n",
    "  - clean contents \n",
    "  - write the cleaned contents to a new text file\n",
    "- we focus now on text/string contents"
   ]
  },
  {
   "cell_type": "markdown",
   "id": "87b502fb",
   "metadata": {},
   "source": [
    "## Read file"
   ]
  },
  {
   "cell_type": "markdown",
   "id": "d26125cd",
   "metadata": {},
   "source": [
    "##### Open the file directly"
   ]
  },
  {
   "cell_type": "code",
   "execution_count": null,
   "id": "d8d07fb3",
   "metadata": {},
   "outputs": [
    {
     "name": "stdout",
     "output_type": "stream",
     "text": [
      "<_io.TextIOWrapper name='test.txt' mode='r' encoding='UTF-8'>\n",
      "juhhiioojh\n",
      "jhhuikk\n",
      "okjhhh\n"
     ]
    }
   ],
   "source": [
    "# open the file\n",
    "# the first argument is a path!\n",
    "# the second argument is the mode of opening(r is read-only)\n",
    "f = open(\"test.txt\", \"r\") #the first argument is a path!\n",
    "print(f)\n",
    "\n",
    "# save the contents of the file in a variable\n",
    "text = f.read()\n",
    "print(text)\n",
    "\n",
    "# close the file\n",
    "f.close()"
   ]
  },
  {
   "cell_type": "markdown",
   "id": "0e3938da",
   "metadata": {},
   "source": [
    "##### Open the file with `with` statement"
   ]
  },
  {
   "cell_type": "code",
   "execution_count": 4,
   "id": "b35458f0",
   "metadata": {},
   "outputs": [
    {
     "name": "stdout",
     "output_type": "stream",
     "text": [
      "juhhiioojh\n",
      "jhhuikk\n",
      "okjhhh\n"
     ]
    }
   ],
   "source": [
    "with open(\"test.txt\", \"r\") as f:\n",
    "    text = f.read()\n",
    "    # with statement will close the file automatically\n",
    "\n",
    "print(text)"
   ]
  },
  {
   "cell_type": "markdown",
   "id": "7a5b5faf",
   "metadata": {},
   "source": [
    "## Clean the quotes file"
   ]
  },
  {
   "cell_type": "code",
   "execution_count": 1,
   "id": "c30015db",
   "metadata": {},
   "outputs": [],
   "source": [
    "# we will use regular expression package to clean string contents\n",
    "import re"
   ]
  },
  {
   "cell_type": "code",
   "execution_count": 2,
   "id": "8b5105c3",
   "metadata": {},
   "outputs": [],
   "source": [
    "# creaet an empty list for saving quotes\n",
    "quotes = []\n",
    "\n",
    "# initiate a quote number\n",
    "i = 1 "
   ]
  },
  {
   "cell_type": "code",
   "execution_count": 3,
   "id": "e3f466ee",
   "metadata": {},
   "outputs": [
    {
     "name": "stdout",
     "output_type": "stream",
     "text": [
      "<_io.TextIOWrapper name='quotes.txt' mode='r' encoding='UTF-8'>\n",
      "  If     we     knew what it was      we were doing, it would not be called research,          would it?     - Albert Einstein\n",
      "\n",
      "Time is a drug. Too       much of it kills you.  -  Terry Pratchett\n",
      "\n",
      "\n",
      " An expert is a person who       has made all the mistakes that           can be made in a          very narrow field - Niels Bohr\n",
      "\n",
      "   Everything must be made as simple as possible. But not simpler. - Albert Einstein     \n",
      "\n",
      "\n",
      "  Nothing in life                is to be feared, it is only to be understood. Now is the time to understand more, so that we may fear less. - Marie  Curie  \n",
      "\n",
      "If I have seen further     it is by standing on the shoulders of Giants. - Isaac Newton\n"
     ]
    }
   ],
   "source": [
    "# open the file\n",
    "# comparing the use of absolute and relative paths \n",
    "\n",
    "# print out all the contents at once \n",
    "raw_file_path = \"quotes.txt\"\n",
    "\n",
    "with open(raw_file_path, \"r\") as f_read:\n",
    "    quotes = f_read.read()\n",
    "\n",
    "print(f_read) # what you can see from just opening the file\n",
    "print(quotes) # what you can see from applying the read() methold on the same file"
   ]
  },
  {
   "cell_type": "code",
   "execution_count": null,
   "id": "96f15d62",
   "metadata": {},
   "outputs": [
    {
     "name": "stdout",
     "output_type": "stream",
     "text": [
      "If we knew what it was we were doing, it would not be called research, would it? - Albert Einstein\n",
      "\n",
      "Time is a drug. Too much of it kills you. - Terry Pratchett\n",
      "\n",
      "\n",
      "An expert is a person who has made all the mistakes that can be made in a very narrow field - Niels Bohr\n",
      "\n",
      "Everything must be made as simple as possible. But not simpler. - Albert Einstein\n",
      "\n",
      "\n",
      "Nothing in life is to be feared, it is only to be understood. Now is the time to understand more, so that we may fear less. - Marie Curie\n",
      "\n",
      "If I have seen further it is by standing on the shoulders of Giants. - Isaac Newton\n"
     ]
    }
   ],
   "source": [
    "# loop through lines in the file contents\n",
    "with open(\"quotes.txt\", \"r\") as f_read:\n",
    "    for quote in f_read:\n",
    "        # data cleaning\n",
    "        quote = quote.strip(\" \\n\") # replace the quote with a modified quote\n",
    "        quote = re.sub(\" +\",  \" \", quote) # replace multiple spaces with one space\n",
    "        # print each line\n",
    "        print(quote)"
   ]
  },
  {
   "cell_type": "code",
   "execution_count": 8,
   "id": "5746508c",
   "metadata": {},
   "outputs": [
    {
     "name": "stdout",
     "output_type": "stream",
     "text": [
      "If we knew what it was we were doing, it would not be called research, would it? - Albert Einstein\n",
      "\n",
      "Time is a drug. Too much of it kills you. - Terry Pratchett\n",
      "\n",
      "\n",
      "An expert is a person who has made all the mistakes that can be made in a very narrow field - Niels Bohr\n",
      "\n",
      "Everything must be made as simple as possible. But not simpler. - Albert Einstein\n",
      "\n",
      "\n",
      "Nothing in life is to be feared, it is only to be understood. Now is the time to understand more, so that we may fear less. - Marie Curie\n",
      "\n",
      "If I have seen further it is by standing on the shoulders of Giants. - Isaac Newton\n"
     ]
    }
   ],
   "source": [
    "# open two files (one with r mode and anotehr with w mode)\n",
    "with open(\"quotes.txt\", \"r\") as f_read, open(\"quotes_cleaned.txt\", \"w\") as f_write:\n",
    "    for quote in f_read:\n",
    "        # data cleaning\n",
    "        quote = quote.strip(\" \\n\") # replace the quote with a modified quote\n",
    "        quote = re.sub(\" +\",  \" \", quote) # replace multiple spaces with one space\n",
    "        # print each line\n",
    "        print(quote)\n",
    "\n",
    "        if quote != \"\":\n",
    "            f_write.write(f\"{i}. {quote}\\n\")\n",
    "            i += 1"
   ]
  }
 ],
 "metadata": {
  "kernelspec": {
   "display_name": "python_code_along_DE25",
   "language": "python",
   "name": "python3"
  },
  "language_info": {
   "codemirror_mode": {
    "name": "ipython",
    "version": 3
   },
   "file_extension": ".py",
   "mimetype": "text/x-python",
   "name": "python",
   "nbconvert_exporter": "python",
   "pygments_lexer": "ipython3",
   "version": "3.12.6"
  }
 },
 "nbformat": 4,
 "nbformat_minor": 5
}
