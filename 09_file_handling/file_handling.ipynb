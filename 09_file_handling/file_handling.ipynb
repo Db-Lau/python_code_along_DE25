{
 "cells": [
  {
   "cell_type": "markdown",
   "id": "4ab1eb9e",
   "metadata": {},
   "source": [
    "# Lecture 9 - File Handling\n",
    "- reading text files (.txt)\n",
    "- we need to \n",
    "  - read the file\n",
    "  - clean contents \n",
    "  - write the cleaned contents to a new text file\n",
    "- we focus now on text/string contents"
   ]
  },
  {
   "cell_type": "markdown",
   "id": "87b502fb",
   "metadata": {},
   "source": [
    "## Read file"
   ]
  },
  {
   "cell_type": "markdown",
   "id": "d26125cd",
   "metadata": {},
   "source": [
    "##### Open the file directly"
   ]
  },
  {
   "cell_type": "code",
   "execution_count": null,
   "id": "d8d07fb3",
   "metadata": {},
   "outputs": [
    {
     "name": "stdout",
     "output_type": "stream",
     "text": [
      "<_io.TextIOWrapper name='test.txt' mode='r' encoding='UTF-8'>\n",
      "juhhiioojh\n",
      "jhhuikk\n",
      "okjhhh\n"
     ]
    }
   ],
   "source": [
    "# open the file\n",
    "# the first argument is a path!\n",
    "# the second argument is the mode of opening(r is read-only)\n",
    "f = open(\"test.txt\", \"r\") #the first argument is a path!\n",
    "print(f)\n",
    "\n",
    "# save the contents of the file in a variable\n",
    "text = f.read()\n",
    "print(text)\n",
    "\n",
    "# close the file\n",
    "f.close()"
   ]
  },
  {
   "cell_type": "markdown",
   "id": "0e3938da",
   "metadata": {},
   "source": [
    "##### Open the file with `with` statement"
   ]
  },
  {
   "cell_type": "code",
   "execution_count": null,
   "id": "b35458f0",
   "metadata": {},
   "outputs": [
    {
     "name": "stdout",
     "output_type": "stream",
     "text": [
      "juhhiioojh\n",
      "jhhuikk\n",
      "okjhhh\n"
     ]
    }
   ],
   "source": [
    "with open(\"test.txt\", \"r\") as f:\n",
    "    text = f.read()\n",
    "    # with statement will close the file automatically\n",
    "\n",
    "print(text)"
   ]
  },
  {
   "cell_type": "markdown",
   "id": "6174320d",
   "metadata": {},
   "source": []
  }
 ],
 "metadata": {
  "kernelspec": {
   "display_name": "python_code_along_DE25",
   "language": "python",
   "name": "python3"
  },
  "language_info": {
   "codemirror_mode": {
    "name": "ipython",
    "version": 3
   },
   "file_extension": ".py",
   "mimetype": "text/x-python",
   "name": "python",
   "nbconvert_exporter": "python",
   "pygments_lexer": "ipython3",
   "version": "3.12.6"
  }
 },
 "nbformat": 4,
 "nbformat_minor": 5
}
