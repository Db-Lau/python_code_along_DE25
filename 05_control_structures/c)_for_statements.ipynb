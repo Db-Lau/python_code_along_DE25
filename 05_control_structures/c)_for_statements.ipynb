{
 "cells": [
  {
   "cell_type": "markdown",
   "id": "7a35b6b2",
   "metadata": {},
   "source": [
    "# Lecture 5c - for loop\n",
    "- loop through the same block of codes for several times\n",
    "- the number of looping times is known"
   ]
  },
  {
   "cell_type": "code",
   "execution_count": 2,
   "id": "4fc9ebfd",
   "metadata": {},
   "outputs": [
    {
     "name": "stdout",
     "output_type": "stream",
     "text": [
      "0\n",
      "1\n",
      "2\n",
      "3\n",
      "4\n"
     ]
    }
   ],
   "source": [
    "# a simple example \n",
    "for i in range(5): # range(n) returns numbers from 0 to n-1\n",
    "    print(i)"
   ]
  },
  {
   "cell_type": "markdown",
   "id": "45ed8b36",
   "metadata": {},
   "source": [
    "##### range() function\n",
    "- with only one argument, like range(5), end argument, default start is 0 and default step is 1\n",
    "- with three arguments, like range(1, 5, 2), start, end, step argument"
   ]
  },
  {
   "cell_type": "code",
   "execution_count": 6,
   "id": "688ddcff",
   "metadata": {},
   "outputs": [
    {
     "name": "stdout",
     "output_type": "stream",
     "text": [
      "1\n",
      "3\n"
     ]
    }
   ],
   "source": [
    "# an example with three arguments\n",
    "for i in range(1, 5, 2):\n",
    "    print(i)"
   ]
  },
  {
   "cell_type": "code",
   "execution_count": 9,
   "id": "d6559db6",
   "metadata": {},
   "outputs": [
    {
     "name": "stdout",
     "output_type": "stream",
     "text": [
      "1 3 "
     ]
    }
   ],
   "source": [
    "# we want to change the default setting of print() function to not start a newline\n",
    "for i in range(1, 5, 2):\n",
    "    print(i, end=\" \")"
   ]
  },
  {
   "cell_type": "markdown",
   "id": "aeeea786",
   "metadata": {},
   "source": [
    "##### random module "
   ]
  },
  {
   "cell_type": "code",
   "execution_count": 2,
   "id": "33b37357",
   "metadata": {},
   "outputs": [],
   "source": [
    "import random as rnd "
   ]
  },
  {
   "cell_type": "code",
   "execution_count": null,
   "id": "436019af",
   "metadata": {},
   "outputs": [
    {
     "data": {
      "text/plain": [
       "6"
      ]
     },
     "execution_count": 14,
     "metadata": {},
     "output_type": "execute_result"
    }
   ],
   "source": [
    "# generate a dice result from one throw\n",
    "# also work on the dice exercise to practice the use of random module\n",
    "dice_result = rnd.randint(1, 6) # use the alias. when you want to use a function from this module\n",
    "dice_result"
   ]
  },
  {
   "cell_type": "markdown",
   "id": "cb6093be",
   "metadata": {},
   "source": [
    "##### loop through a list"
   ]
  },
  {
   "cell_type": "code",
   "execution_count": 15,
   "id": "6e4a0948",
   "metadata": {},
   "outputs": [
    {
     "name": "stdout",
     "output_type": "stream",
     "text": [
      "I love to eat apple\n",
      "I love to eat orange\n",
      "I love to eat grape\n"
     ]
    }
   ],
   "source": [
    "# list is a collection of items/values/data\n",
    "fruits = [\"apple\", \"orange\", \"grape\"]\n",
    "\n",
    "for fruit in fruits: # fruits refer to a specific list, fruit is an intermediate variable\n",
    "    print(f\"I love to eat {fruit}\")"
   ]
  },
  {
   "cell_type": "markdown",
   "id": "fe4b6d2e",
   "metadata": {},
   "source": [
    "##### example of pythonic code\n",
    "- a classic example when writing a for loop with index\n",
    "- problem solve: loop through the fruits list and also print out the index for each fruit"
   ]
  },
  {
   "cell_type": "code",
   "execution_count": null,
   "id": "8317b7db",
   "metadata": {},
   "outputs": [
    {
     "name": "stdout",
     "output_type": "stream",
     "text": [
      "1. apple\n",
      "2. orange\n",
      "3. grape\n"
     ]
    }
   ],
   "source": [
    "# wtih enumerate()\n",
    "\n",
    "for i, fruit in enumerate(fruits, 1):\n",
    "    print(f\"{i}. {fruit}\")"
   ]
  },
  {
   "cell_type": "code",
   "execution_count": 21,
   "id": "29b82961",
   "metadata": {},
   "outputs": [
    {
     "name": "stdout",
     "output_type": "stream",
     "text": [
      "1. apple\n",
      "2. orange\n",
      "3. grape\n"
     ]
    }
   ],
   "source": [
    "# without enumerate()\n",
    "\n",
    "i = 1\n",
    "\n",
    "for fruit in fruits:\n",
    "    print(f\"{i}. {fruit}\")\n",
    "    i += 1"
   ]
  }
 ],
 "metadata": {
  "kernelspec": {
   "display_name": "python_code_along_DE25",
   "language": "python",
   "name": "python3"
  },
  "language_info": {
   "codemirror_mode": {
    "name": "ipython",
    "version": 3
   },
   "file_extension": ".py",
   "mimetype": "text/x-python",
   "name": "python",
   "nbconvert_exporter": "python",
   "pygments_lexer": "ipython3",
   "version": "3.12.6"
  }
 },
 "nbformat": 4,
 "nbformat_minor": 5
}
