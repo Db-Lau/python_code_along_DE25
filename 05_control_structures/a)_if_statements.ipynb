{
 "cells": [
  {
   "cell_type": "markdown",
   "id": "97a31029",
   "metadata": {},
   "source": [
    "# Lecture 5a - if statement\n",
    "- one way to control the flow of running the scripts\n",
    "- use if statement for controlling the flow based on conditions\n"
   ]
  },
  {
   "cell_type": "markdown",
   "id": "a597ec7b",
   "metadata": {},
   "source": [
    "##### Example of two possible scenarios\n",
    "- based on the user's input of age, print out a message showing that it the user should watch a scary movie"
   ]
  },
  {
   "cell_type": "code",
   "execution_count": 1,
   "id": "acba5ed5",
   "metadata": {},
   "outputs": [],
   "source": [
    "age = int(input(\"Enter your age: \"))"
   ]
  },
  {
   "cell_type": "code",
   "execution_count": 2,
   "id": "8b2b888c",
   "metadata": {},
   "outputs": [
    {
     "data": {
      "text/plain": [
       "int"
      ]
     },
     "execution_count": 2,
     "metadata": {},
     "output_type": "execute_result"
    }
   ],
   "source": [
    "# check the data type of age variable\n",
    "type(age)"
   ]
  },
  {
   "cell_type": "code",
   "execution_count": 3,
   "id": "018ea898",
   "metadata": {},
   "outputs": [],
   "source": [
    "age_limit = 15"
   ]
  },
  {
   "cell_type": "code",
   "execution_count": 4,
   "id": "08d0f481",
   "metadata": {},
   "outputs": [
    {
     "data": {
      "text/plain": [
       "int"
      ]
     },
     "execution_count": 4,
     "metadata": {},
     "output_type": "execute_result"
    }
   ],
   "source": [
    "# check the data type of age_limit variable\n",
    "type(age_limit)"
   ]
  },
  {
   "cell_type": "code",
   "execution_count": 5,
   "id": "d7f5e739",
   "metadata": {},
   "outputs": [
    {
     "name": "stdout",
     "output_type": "stream",
     "text": [
      "Sorry, you are too young to watch this scary movie\n",
      "Watch this cartoon instead\n"
     ]
    }
   ],
   "source": [
    "# we compare the two variables, age and age_limit, to set up our condition for the if statement\n",
    "\n",
    "if age < age_limit: # between if and :, specify your condition\n",
    "    # if the condition is met, run the block of codes\n",
    "    print(\"Sorry, you are too young to watch this scary movie\")\n",
    "    print(\"Watch this cartoon instead\")\n",
    "else: \n",
    "    # if the condition is not met, run this block of codes instead\n",
    "    print(\"Enjoy this scary movie\")"
   ]
  },
  {
   "cell_type": "markdown",
   "id": "516f671b",
   "metadata": {},
   "source": [
    "##### Example of more than two possible scenarios\n",
    "- use if - elif - else statement\n",
    "- the following example shows how to suggest the dos of medicine depending on the patient's weight"
   ]
  },
  {
   "cell_type": "code",
   "execution_count": 10,
   "id": "d678a668",
   "metadata": {},
   "outputs": [
    {
     "data": {
      "text/plain": [
       "float"
      ]
     },
     "execution_count": 10,
     "metadata": {},
     "output_type": "execute_result"
    }
   ],
   "source": [
    "weight = float(input(\"What is your weight in kg: \"))\n",
    "\n",
    "type(weight)"
   ]
  },
  {
   "cell_type": "code",
   "execution_count": 11,
   "id": "76387493",
   "metadata": {},
   "outputs": [
    {
     "name": "stdout",
     "output_type": "stream",
     "text": [
      "The patient should take 750mg per day\n"
     ]
    }
   ],
   "source": [
    "if weight < 20:\n",
    "    # python will first check if weight is less than 20\n",
    "    # if yes, run this part of the code and stop \n",
    "    print(\"The patient should take 500mg per day\")\n",
    "elif weight < 40:\n",
    "    # python will secondly check if weight is less than 40\n",
    "    # if yes, run this part of the code and stop\n",
    "    print(\"The patient should take 750mg per day\")\n",
    "else: \n",
    "    # if the two scenarios above are not met, python will run this part of the code and stop \n",
    "    print(\"The patient should take 1000mg per day\")\n"
   ]
  },
  {
   "cell_type": "markdown",
   "id": "e05f1108",
   "metadata": {},
   "source": [
    "##### Modulo operator (%)\n",
    "- return the reminder of a division\n",
    "- for example 5 % 3 = 2, 9 % 3 = 0"
   ]
  },
  {
   "cell_type": "code",
   "execution_count": 1,
   "id": "a0db06e8",
   "metadata": {},
   "outputs": [],
   "source": [
    "number = 5"
   ]
  },
  {
   "cell_type": "code",
   "execution_count": 2,
   "id": "d3db1733",
   "metadata": {},
   "outputs": [
    {
     "name": "stdout",
     "output_type": "stream",
     "text": [
      "It is an odd number and the value assigned to this is 5.\n"
     ]
    }
   ],
   "source": [
    "# print out whether the value assigned to the variable, number, is odd or even\n",
    "if number % 2 == 0: # == is the equality operator\n",
    "    print(f\"It is an even number and the value assigned to this is {number}.\")\n",
    "else:\n",
    "    print(f\"It is an odd number and the value assigned to this is {number}.\")"
   ]
  },
  {
   "cell_type": "markdown",
   "id": "94bfd276",
   "metadata": {},
   "source": [
    "##### Nested if statement\n",
    "- when we have another if statement under a scenario\n",
    "- you need to think if nested if statement produces clean codes "
   ]
  },
  {
   "cell_type": "code",
   "execution_count": 8,
   "id": "aa27b49f",
   "metadata": {},
   "outputs": [],
   "source": [
    "number = int(input(\"Enter a number\"))"
   ]
  },
  {
   "cell_type": "code",
   "execution_count": 9,
   "id": "6628c504",
   "metadata": {},
   "outputs": [
    {
     "name": "stdout",
     "output_type": "stream",
     "text": [
      "This is not divisible by 5. No need to check more.\n"
     ]
    }
   ],
   "source": [
    "# if a number is divisible by 5, further check it is also divisible by 2 (even number)\n",
    "if number % 5 == 0: \n",
    "    print(\"This is divisible by 5. Check also if it is divisible by 2.\")\n",
    "    if number % 2 == 0:\n",
    "        print(\"This is an even number.\")\n",
    "    else:\n",
    "        print(\"This is an odd number.\")\n",
    "else:\n",
    "    print(\"This is not divisible by 5. No need to check more.\")"
   ]
  },
  {
   "cell_type": "markdown",
   "id": "0613da5e",
   "metadata": {},
   "source": [
    "##### One line if statement\n",
    "- you write one line if statement, usually when refractoring your original if statement with multiple lines of codes\n",
    "- you need to think about if an one line if statement can make your codes better, is it cleaner and more readable?"
   ]
  },
  {
   "cell_type": "code",
   "execution_count": 10,
   "id": "5496421b",
   "metadata": {},
   "outputs": [],
   "source": [
    "name = \"Olivia\"\n",
    "gender = \"female\"\n",
    "age = 7"
   ]
  },
  {
   "cell_type": "code",
   "execution_count": 12,
   "id": "38c6d128",
   "metadata": {},
   "outputs": [
    {
     "name": "stdout",
     "output_type": "stream",
     "text": [
      "There is letter O in the name\n"
     ]
    }
   ],
   "source": [
    "# multiple lines of code\n",
    "if \"O\" in name:\n",
    "    print(\"There is letter O in the name\")"
   ]
  },
  {
   "cell_type": "code",
   "execution_count": 13,
   "id": "68d07f31",
   "metadata": {},
   "outputs": [
    {
     "name": "stdout",
     "output_type": "stream",
     "text": [
      "There is letter O in the name\n"
     ]
    }
   ],
   "source": [
    "# one line of code\n",
    "if \"O\" in name: print(\"There is letter O in the name\")"
   ]
  }
 ],
 "metadata": {
  "kernelspec": {
   "display_name": "python_code_along_DE25",
   "language": "python",
   "name": "python3"
  },
  "language_info": {
   "codemirror_mode": {
    "name": "ipython",
    "version": 3
   },
   "file_extension": ".py",
   "mimetype": "text/x-python",
   "name": "python",
   "nbconvert_exporter": "python",
   "pygments_lexer": "ipython3",
   "version": "3.12.6"
  }
 },
 "nbformat": 4,
 "nbformat_minor": 5
}
