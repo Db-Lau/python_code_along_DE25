{
 "cells": [
  {
   "cell_type": "markdown",
   "id": "97a31029",
   "metadata": {},
   "source": [
    "# Lecture 5a - if statement\n",
    "- one way to control the flow of running the scripts\n",
    "- use if statement for controlling the flow based on conditions\n"
   ]
  },
  {
   "cell_type": "markdown",
   "id": "a597ec7b",
   "metadata": {},
   "source": [
    "##### Example of two possible scenarios\n",
    "- based on the user's input of age, print out a message showing that it the user should watch a scary movie"
   ]
  },
  {
   "cell_type": "code",
   "execution_count": 1,
   "id": "acba5ed5",
   "metadata": {},
   "outputs": [],
   "source": [
    "age = int(input(\"Enter your age: \"))"
   ]
  },
  {
   "cell_type": "code",
   "execution_count": 2,
   "id": "8b2b888c",
   "metadata": {},
   "outputs": [
    {
     "data": {
      "text/plain": [
       "int"
      ]
     },
     "execution_count": 2,
     "metadata": {},
     "output_type": "execute_result"
    }
   ],
   "source": [
    "# check the data type of age variable\n",
    "type(age)"
   ]
  },
  {
   "cell_type": "code",
   "execution_count": 3,
   "id": "018ea898",
   "metadata": {},
   "outputs": [],
   "source": [
    "age_limit = 15"
   ]
  },
  {
   "cell_type": "code",
   "execution_count": 4,
   "id": "08d0f481",
   "metadata": {},
   "outputs": [
    {
     "data": {
      "text/plain": [
       "int"
      ]
     },
     "execution_count": 4,
     "metadata": {},
     "output_type": "execute_result"
    }
   ],
   "source": [
    "# check the data type of age_limit variable\n",
    "type(age_limit)"
   ]
  },
  {
   "cell_type": "code",
   "execution_count": 5,
   "id": "d7f5e739",
   "metadata": {},
   "outputs": [
    {
     "name": "stdout",
     "output_type": "stream",
     "text": [
      "Sorry, you are too young to watch this scary movie\n",
      "Watch this cartoon instead\n"
     ]
    }
   ],
   "source": [
    "# we compare the two variables, age and age_limit, to set up our condition for the if statement\n",
    "\n",
    "if age < age_limit: # between if and :, specify your condition\n",
    "    # if the condition is met, run the block of codes\n",
    "    print(\"Sorry, you are too young to watch this scary movie\")\n",
    "    print(\"Watch this cartoon instead\")\n",
    "else: \n",
    "    # if the condition is not met, run this block of codes instead\n",
    "    print(\"Enjoy this scary movie\")"
   ]
  },
  {
   "cell_type": "markdown",
   "id": "516f671b",
   "metadata": {},
   "source": [
    "##### Example of more than two possible scenarios\n",
    "- use if - elif - else statement\n",
    "- the following example shows how to suggest the dos of medicine depending on the patient's weight"
   ]
  },
  {
   "cell_type": "code",
   "execution_count": 10,
   "id": "d678a668",
   "metadata": {},
   "outputs": [
    {
     "data": {
      "text/plain": [
       "float"
      ]
     },
     "execution_count": 10,
     "metadata": {},
     "output_type": "execute_result"
    }
   ],
   "source": [
    "weight = float(input(\"What is your weight in kg: \"))\n",
    "\n",
    "type(weight)"
   ]
  },
  {
   "cell_type": "code",
   "execution_count": 11,
   "id": "76387493",
   "metadata": {},
   "outputs": [
    {
     "name": "stdout",
     "output_type": "stream",
     "text": [
      "The patient should take 750mg per day\n"
     ]
    }
   ],
   "source": [
    "if weight < 20:\n",
    "    # python will first check if weight is less than 20\n",
    "    # if yes, run this part of the code and stop \n",
    "    print(\"The patient should take 500mg per day\")\n",
    "elif weight < 40:\n",
    "    # python will secondly check if weight is less than 40\n",
    "    # if yes, run this part of the code and stop\n",
    "    print(\"The patient should take 750mg per day\")\n",
    "else: \n",
    "    # if the two scenarios above are not met, python will run this part of the code and stop \n",
    "    print(\"The patient should take 1000mg per day\")\n"
   ]
  },
  {
   "cell_type": "markdown",
   "id": "ad882cc3",
   "metadata": {},
   "source": []
  }
 ],
 "metadata": {
  "kernelspec": {
   "display_name": "python_code_along_DE25",
   "language": "python",
   "name": "python3"
  },
  "language_info": {
   "codemirror_mode": {
    "name": "ipython",
    "version": 3
   },
   "file_extension": ".py",
   "mimetype": "text/x-python",
   "name": "python",
   "nbconvert_exporter": "python",
   "pygments_lexer": "ipython3",
   "version": "3.12.6"
  }
 },
 "nbformat": 4,
 "nbformat_minor": 5
}
