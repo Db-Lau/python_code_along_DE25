{
 "cells": [
  {
   "cell_type": "markdown",
   "id": "57a1b135",
   "metadata": {},
   "source": [
    "# Lecture 5b - while loop\n",
    "- loop through the same block of codes for several times\n",
    "- number of looping"
   ]
  },
  {
   "cell_type": "code",
   "execution_count": 4,
   "id": "4f1af134",
   "metadata": {},
   "outputs": [
    {
     "name": "stdout",
     "output_type": "stream",
     "text": [
      "0\n",
      "2\n",
      "4\n"
     ]
    }
   ],
   "source": [
    "# a simple example \n",
    "\n",
    "i = 0\n",
    "\n",
    "while i < 5: #repeat multiples until the condition is not met\n",
    "    print (i)\n",
    "    i += 2"
   ]
  }
 ],
 "metadata": {
  "kernelspec": {
   "display_name": "python_code_along_DE25",
   "language": "python",
   "name": "python3"
  },
  "language_info": {
   "codemirror_mode": {
    "name": "ipython",
    "version": 3
   },
   "file_extension": ".py",
   "mimetype": "text/x-python",
   "name": "python",
   "nbconvert_exporter": "python",
   "pygments_lexer": "ipython3",
   "version": "3.12.6"
  }
 },
 "nbformat": 4,
 "nbformat_minor": 5
}
