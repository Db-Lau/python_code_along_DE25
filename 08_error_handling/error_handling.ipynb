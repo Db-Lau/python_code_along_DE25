{
 "cells": [
  {
   "cell_type": "markdown",
   "id": "9fe73455",
   "metadata": {},
   "source": [
    "# Error handling\n",
    "- add error handling for blocks of codes that can encounter errors\n",
    "- because we don't want to crash the program\n",
    "- make use of `try except` block"
   ]
  },
  {
   "cell_type": "code",
   "execution_count": null,
   "id": "3064a658",
   "metadata": {},
   "outputs": [
    {
     "ename": "NameError",
     "evalue": "name 'x' is not defined",
     "output_type": "error",
     "traceback": [
      "\u001b[31m---------------------------------------------------------------------------\u001b[39m",
      "\u001b[31mNameError\u001b[39m                                 Traceback (most recent call last)",
      "\u001b[36mCell\u001b[39m\u001b[36m \u001b[39m\u001b[32mIn[1]\u001b[39m\u001b[32m, line 1\u001b[39m\n\u001b[32m----> \u001b[39m\u001b[32m1\u001b[39m \u001b[38;5;28mprint\u001b[39m(\u001b[43mx\u001b[49m)\n",
      "\u001b[31mNameError\u001b[39m: name 'x' is not defined"
     ]
    }
   ],
   "source": [
    "# without error handling, the code below will crash\n",
    "print(x)"
   ]
  },
  {
   "cell_type": "code",
   "execution_count": 2,
   "id": "d55c4cb8",
   "metadata": {},
   "outputs": [
    {
     "name": "stdout",
     "output_type": "stream",
     "text": [
      "There is an error in the try block\n"
     ]
    }
   ],
   "source": [
    "# add try except to the code above\n",
    "try:\n",
    "    # under the try block, put the potentially problematic block of codes\n",
    "    print(x)\n",
    "except: \n",
    "    # when the try block encounter errors, run the except block instead of crashing\n",
    "    print(\"There is an error in the try block\")"
   ]
  },
  {
   "cell_type": "code",
   "execution_count": 3,
   "id": "85cb55c0",
   "metadata": {},
   "outputs": [
    {
     "name": "stdout",
     "output_type": "stream",
     "text": [
      "Varible x is not defined yet.\n"
     ]
    }
   ],
   "source": [
    "# make use of multiple except blocks\n",
    "try:\n",
    "    print(x)\n",
    "except NameError:\n",
    "    print(\"Varible x is not defined yet.\")\n",
    "except:\n",
    "    print(\"Some other errors happen.\")"
   ]
  },
  {
   "cell_type": "code",
   "execution_count": 5,
   "id": "503582da",
   "metadata": {},
   "outputs": [
    {
     "ename": "ZeroDivisionError",
     "evalue": "division by zero",
     "output_type": "error",
     "traceback": [
      "\u001b[31m---------------------------------------------------------------------------\u001b[39m",
      "\u001b[31mZeroDivisionError\u001b[39m                         Traceback (most recent call last)",
      "\u001b[36mCell\u001b[39m\u001b[36m \u001b[39m\u001b[32mIn[5]\u001b[39m\u001b[32m, line 2\u001b[39m\n\u001b[32m      1\u001b[39m \u001b[38;5;66;03m# an example that is not NameError\u001b[39;00m\n\u001b[32m----> \u001b[39m\u001b[32m2\u001b[39m \u001b[38;5;28mprint\u001b[39m(\u001b[32;43m8\u001b[39;49m\u001b[43m/\u001b[49m\u001b[32;43m0\u001b[39;49m)\n",
      "\u001b[31mZeroDivisionError\u001b[39m: division by zero"
     ]
    }
   ],
   "source": [
    "# an example that is not NameError\n",
    "print(8/0)"
   ]
  },
  {
   "cell_type": "code",
   "execution_count": 6,
   "id": "9441ba80",
   "metadata": {},
   "outputs": [
    {
     "name": "stdout",
     "output_type": "stream",
     "text": [
      "There is an error that is not NameError\n"
     ]
    }
   ],
   "source": [
    "try:\n",
    "    print(8/0)\n",
    "except NameError:\n",
    "    print(\"There is a NameError.\")\n",
    "except:\n",
    "    print(\"There is an error that is not NameError\")"
   ]
  },
  {
   "cell_type": "code",
   "execution_count": 7,
   "id": "819a7097",
   "metadata": {},
   "outputs": [
    {
     "name": "stdout",
     "output_type": "stream",
     "text": [
      "name 'x' is not defined\n"
     ]
    }
   ],
   "source": [
    "# make use of error message\n",
    "try:\n",
    "    print(x)\n",
    "except NameError as err:\n",
    "    print(err)\n",
    "except:\n",
    "    print(\"Something else\")"
   ]
  }
 ],
 "metadata": {
  "kernelspec": {
   "display_name": "python_code_along_DE25",
   "language": "python",
   "name": "python3"
  },
  "language_info": {
   "codemirror_mode": {
    "name": "ipython",
    "version": 3
   },
   "file_extension": ".py",
   "mimetype": "text/x-python",
   "name": "python",
   "nbconvert_exporter": "python",
   "pygments_lexer": "ipython3",
   "version": "3.12.6"
  }
 },
 "nbformat": 4,
 "nbformat_minor": 5
}
