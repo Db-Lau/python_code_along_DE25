{
 "cells": [
  {
   "cell_type": "markdown",
   "id": "a80a140f",
   "metadata": {},
   "source": [
    "# Lecture 6a - List\n",
    "- one of the collection data type/iterables\n",
    "- used for storing several items in a variable\n",
    "- for collection data type, we will be learning\n",
    "  - characteristics \n",
    "  - available operation"
   ]
  },
  {
   "cell_type": "markdown",
   "id": "97fbcce6",
   "metadata": {},
   "source": [
    "##### Create a list"
   ]
  },
  {
   "cell_type": "code",
   "execution_count": 1,
   "id": "788d3a26",
   "metadata": {},
   "outputs": [],
   "source": [
    "tv_shows = [\"Antikrundan\", \"Mästerkockarna\", \"Aktuellt\", \"Talang\"]"
   ]
  },
  {
   "cell_type": "markdown",
   "id": "2e8a15c0",
   "metadata": {},
   "source": [
    "##### Access an item\n",
    "- index begins with 0\n",
    "- use [] to access an iterm with a certain index\n",
    "- by default, the first item begins from the left"
   ]
  },
  {
   "cell_type": "code",
   "execution_count": 3,
   "id": "c12657b8",
   "metadata": {},
   "outputs": [
    {
     "data": {
      "text/plain": [
       "'Mästerkockarna'"
      ]
     },
     "execution_count": 3,
     "metadata": {},
     "output_type": "execute_result"
    }
   ],
   "source": [
    "# to access the second item\n",
    "tv_shows[1]"
   ]
  },
  {
   "cell_type": "code",
   "execution_count": null,
   "id": "2b90df43",
   "metadata": {},
   "outputs": [
    {
     "data": {
      "text/plain": [
       "'Talang'"
      ]
     },
     "execution_count": 9,
     "metadata": {},
     "output_type": "execute_result"
    }
   ],
   "source": [
    "# to access the last item - by counting from the left\n",
    "last_index = len(tv_shows) - 1\n",
    "tv_shows[last_index]"
   ]
  },
  {
   "cell_type": "code",
   "execution_count": 15,
   "id": "942f09eb",
   "metadata": {},
   "outputs": [
    {
     "data": {
      "text/plain": [
       "'Talang'"
      ]
     },
     "execution_count": 15,
     "metadata": {},
     "output_type": "execute_result"
    }
   ],
   "source": [
    "# to access the last item - by counting from the right\n",
    "tv_shows[-1]"
   ]
  },
  {
   "cell_type": "markdown",
   "id": "8461aa7f",
   "metadata": {},
   "source": [
    "##### Iterate through a list"
   ]
  },
  {
   "cell_type": "code",
   "execution_count": null,
   "id": "af31268b",
   "metadata": {},
   "outputs": [
    {
     "name": "stdout",
     "output_type": "stream",
     "text": [
      "Antikrundan\n",
      "Mästerkockarna\n",
      "Aktuellt\n",
      "Talang\n"
     ]
    }
   ],
   "source": [
    "for tv_show in tv_shows: # tv_show is an intermediate variable created when running the for loop\n",
    "    print(tv_show)"
   ]
  },
  {
   "cell_type": "markdown",
   "id": "80d92068",
   "metadata": {},
   "source": [
    "##### Change the value of a list item"
   ]
  },
  {
   "cell_type": "code",
   "execution_count": 20,
   "id": "1be34372",
   "metadata": {},
   "outputs": [
    {
     "data": {
      "text/plain": [
       "['Vetenskapens värld', 'Mästerkockarna', 'Aktuellt', 'Talang']"
      ]
     },
     "execution_count": 20,
     "metadata": {},
     "output_type": "execute_result"
    }
   ],
   "source": [
    "# assign a new value to the first item in the list\n",
    "tv_shows[0] = \"Vetenskapens värld\"\n",
    "\n",
    "tv_shows"
   ]
  },
  {
   "cell_type": "markdown",
   "id": "852b6af3",
   "metadata": {},
   "source": [
    "##### Append new value to a list\n",
    "- add a new item as the last item"
   ]
  },
  {
   "cell_type": "code",
   "execution_count": null,
   "id": "7951bb2d",
   "metadata": {},
   "outputs": [
    {
     "data": {
      "text/plain": [
       "['Vetenskapens värld', 'Mästerkockarna', 'Aktuellt', 'Talang', 'Pokemon']"
      ]
     },
     "execution_count": 21,
     "metadata": {},
     "output_type": "execute_result"
    }
   ],
   "source": [
    "# tv_shows is a list, therefore, it can use a method called append()\n",
    "tv_shows.append(\"Pokemon\")\n",
    "\n",
    "tv_shows"
   ]
  },
  {
   "cell_type": "markdown",
   "id": "1d1ac249",
   "metadata": {},
   "source": []
  }
 ],
 "metadata": {
  "kernelspec": {
   "display_name": "python_code_along_DE25",
   "language": "python",
   "name": "python3"
  },
  "language_info": {
   "codemirror_mode": {
    "name": "ipython",
    "version": 3
   },
   "file_extension": ".py",
   "mimetype": "text/x-python",
   "name": "python",
   "nbconvert_exporter": "python",
   "pygments_lexer": "ipython3",
   "version": "3.12.6"
  }
 },
 "nbformat": 4,
 "nbformat_minor": 5
}
