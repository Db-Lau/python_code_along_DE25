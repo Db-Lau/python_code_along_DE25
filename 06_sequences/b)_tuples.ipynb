{
 "cells": [
  {
   "cell_type": "markdown",
   "id": "5a4c9fb5",
   "metadata": {},
   "source": [
    "##### Lecture 6b - Tuples\n",
    "- less flexible than list\n",
    "- but better performance in list "
   ]
  },
  {
   "cell_type": "markdown",
   "id": "cd952e18",
   "metadata": {},
   "source": [
    "##### Create a tuple"
   ]
  },
  {
   "cell_type": "code",
   "execution_count": 1,
   "id": "6a2cb063",
   "metadata": {},
   "outputs": [],
   "source": [
    "fruits = (\"apple\", \"orange\", \"strawberry\")"
   ]
  },
  {
   "cell_type": "markdown",
   "id": "bc3b2d9d",
   "metadata": {},
   "source": [
    "##### Access an item (indexing)"
   ]
  },
  {
   "cell_type": "code",
   "execution_count": 2,
   "id": "4009638f",
   "metadata": {},
   "outputs": [
    {
     "data": {
      "text/plain": [
       "'apple'"
      ]
     },
     "execution_count": 2,
     "metadata": {},
     "output_type": "execute_result"
    }
   ],
   "source": [
    "fruits[0]"
   ]
  },
  {
   "cell_type": "markdown",
   "id": "b79df2d6",
   "metadata": {},
   "source": [
    "##### Accessing multiple items (slicing)"
   ]
  },
  {
   "cell_type": "code",
   "execution_count": 3,
   "id": "4cc5aea2",
   "metadata": {},
   "outputs": [
    {
     "data": {
      "text/plain": [
       "('apple', 'orange')"
      ]
     },
     "execution_count": 3,
     "metadata": {},
     "output_type": "execute_result"
    }
   ],
   "source": [
    "fruits[0:2]"
   ]
  },
  {
   "cell_type": "markdown",
   "id": "e4896732",
   "metadata": {},
   "source": [
    "##### Cannot change the value of an item of a tuple"
   ]
  },
  {
   "cell_type": "code",
   "execution_count": 4,
   "id": "bd93f576",
   "metadata": {},
   "outputs": [
    {
     "ename": "TypeError",
     "evalue": "'tuple' object does not support item assignment",
     "output_type": "error",
     "traceback": [
      "\u001b[31m---------------------------------------------------------------------------\u001b[39m",
      "\u001b[31mTypeError\u001b[39m                                 Traceback (most recent call last)",
      "\u001b[36mCell\u001b[39m\u001b[36m \u001b[39m\u001b[32mIn[4]\u001b[39m\u001b[32m, line 1\u001b[39m\n\u001b[32m----> \u001b[39m\u001b[32m1\u001b[39m \u001b[43mfruits\u001b[49m\u001b[43m[\u001b[49m\u001b[32;43m0\u001b[39;49m\u001b[43m]\u001b[49m = \u001b[33m\"\u001b[39m\u001b[33mgrape\u001b[39m\u001b[33m\"\u001b[39m\n",
      "\u001b[31mTypeError\u001b[39m: 'tuple' object does not support item assignment"
     ]
    }
   ],
   "source": [
    "fruits[0] = \"grape\""
   ]
  }
 ],
 "metadata": {
  "kernelspec": {
   "display_name": "python_code_along_DE25",
   "language": "python",
   "name": "python3"
  },
  "language_info": {
   "codemirror_mode": {
    "name": "ipython",
    "version": 3
   },
   "file_extension": ".py",
   "mimetype": "text/x-python",
   "name": "python",
   "nbconvert_exporter": "python",
   "pygments_lexer": "ipython3",
   "version": "3.12.6"
  }
 },
 "nbformat": 4,
 "nbformat_minor": 5
}
