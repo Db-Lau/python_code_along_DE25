{
 "cells": [
  {
   "cell_type": "markdown",
   "id": "951fe2b8",
   "metadata": {},
   "source": [
    "# Lecture 6c - Set\n",
    "- object for those working with mathematical sets"
   ]
  },
  {
   "cell_type": "markdown",
   "id": "717bb124",
   "metadata": {},
   "source": [
    "##### Create a set"
   ]
  },
  {
   "cell_type": "code",
   "execution_count": 1,
   "id": "b354b47e",
   "metadata": {},
   "outputs": [
    {
     "data": {
      "text/plain": [
       "['anna@example.com',\n",
       " 'bobo@example.com',\n",
       " 'bobo@example.com',\n",
       " 'carla@example.com']"
      ]
     },
     "execution_count": 1,
     "metadata": {},
     "output_type": "execute_result"
    }
   ],
   "source": [
    "# create a list of emails with duplicates\n",
    "emails = [\"anna@example.com\", \"bobo@example.com\", \"bobo@example.com\", \"carla@example.com\"]\n",
    "\n",
    "emails"
   ]
  },
  {
   "cell_type": "code",
   "execution_count": 2,
   "id": "1c5d09e6",
   "metadata": {},
   "outputs": [
    {
     "data": {
      "text/plain": [
       "{'anna@example.com', 'bobo@example.com', 'carla@example.com'}"
      ]
     },
     "execution_count": 2,
     "metadata": {},
     "output_type": "execute_result"
    }
   ],
   "source": [
    "# use the items in the list to create a set\n",
    "# a set will keep only unique items\n",
    "emails_set = set(emails)\n",
    "\n",
    "emails_set"
   ]
  },
  {
   "cell_type": "markdown",
   "id": "2da0ffef",
   "metadata": {},
   "source": [
    "##### Intersect of two sets"
   ]
  },
  {
   "cell_type": "code",
   "execution_count": 3,
   "id": "0e4ad925",
   "metadata": {},
   "outputs": [],
   "source": [
    "# create two sets\n",
    "\n",
    "first_month_customers = {\"alice\", \"bob\", \"carla\", \"daniel\"}\n",
    "second_month_customers = {\"carla\", \"daniel\", \"elena\"}"
   ]
  },
  {
   "cell_type": "code",
   "execution_count": 4,
   "id": "2592effd",
   "metadata": {},
   "outputs": [
    {
     "data": {
      "text/plain": [
       "{'carla', 'daniel'}"
      ]
     },
     "execution_count": 4,
     "metadata": {},
     "output_type": "execute_result"
    }
   ],
   "source": [
    "returning_customers = first_month_customers.intersection(second_month_customers)\n",
    "\n",
    "returning_customers"
   ]
  },
  {
   "cell_type": "markdown",
   "id": "44ef1ea8",
   "metadata": {},
   "source": [
    "##### Union of two sets"
   ]
  },
  {
   "cell_type": "code",
   "execution_count": 5,
   "id": "f26c14c2",
   "metadata": {},
   "outputs": [
    {
     "data": {
      "text/plain": [
       "{'alice', 'bob', 'carla', 'daniel', 'elena'}"
      ]
     },
     "execution_count": 5,
     "metadata": {},
     "output_type": "execute_result"
    }
   ],
   "source": [
    "all_customers = first_month_customers.union(second_month_customers)\n",
    "\n",
    "all_customers"
   ]
  },
  {
   "cell_type": "markdown",
   "id": "7aa46546",
   "metadata": {},
   "source": [
    "##### Except"
   ]
  },
  {
   "cell_type": "code",
   "execution_count": 7,
   "id": "5c31f718",
   "metadata": {},
   "outputs": [
    {
     "data": {
      "text/plain": [
       "{'alice', 'bob', 'elena'}"
      ]
     },
     "execution_count": 7,
     "metadata": {},
     "output_type": "execute_result"
    }
   ],
   "source": [
    "onetime_customer = all_customers - returning_customers\n",
    "\n",
    "onetime_customer"
   ]
  }
 ],
 "metadata": {
  "kernelspec": {
   "display_name": "python_code_along_DE25",
   "language": "python",
   "name": "python3"
  },
  "language_info": {
   "codemirror_mode": {
    "name": "ipython",
    "version": 3
   },
   "file_extension": ".py",
   "mimetype": "text/x-python",
   "name": "python",
   "nbconvert_exporter": "python",
   "pygments_lexer": "ipython3",
   "version": "3.12.6"
  }
 },
 "nbformat": 4,
 "nbformat_minor": 5
}
