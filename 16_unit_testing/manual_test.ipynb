{
 "cells": [
  {
   "cell_type": "markdown",
   "id": "00b2c2c3",
   "metadata": {},
   "source": [
    "# Manual Testing of Vector class"
   ]
  },
  {
   "cell_type": "code",
   "execution_count": 7,
   "id": "77681789",
   "metadata": {},
   "outputs": [
    {
     "data": {
      "text/plain": [
       "(Vector(2.0, 5.0), Vector(-1.0, 1.0))"
      ]
     },
     "execution_count": 7,
     "metadata": {},
     "output_type": "execute_result"
    }
   ],
   "source": [
    "from vector import Vector\n",
    "\n",
    "# vector with coordinate 2 and 5\n",
    "v1 = Vector(2,5)\n",
    "v2 = Vector(-1,1)\n",
    "v1, v2"
   ]
  },
  {
   "cell_type": "markdown",
   "id": "2fdcd17c",
   "metadata": {},
   "source": [
    "## a few tests that we expect will work"
   ]
  },
  {
   "cell_type": "code",
   "execution_count": 8,
   "id": "6b3d145e",
   "metadata": {},
   "outputs": [
    {
     "name": "stdout",
     "output_type": "stream",
     "text": [
      "len(v1) = 2\n",
      "v1.numbers = (2.0, 5.0)\n",
      "v1 + v2 = Vector(1.0, 6.0)\n"
     ]
    }
   ],
   "source": [
    "print(f\"{len(v1) = }\")\n",
    "print(f\"{v1.numbers = }\")\n",
    "print(f\"{v1 + v2 = }\")\n"
   ]
  },
  {
   "cell_type": "markdown",
   "id": "d41dc63a",
   "metadata": {},
   "source": [
    "## testing correct errors"
   ]
  },
  {
   "cell_type": "code",
   "execution_count": null,
   "id": "8b481ec7",
   "metadata": {},
   "outputs": [],
   "source": []
  }
 ],
 "metadata": {
  "kernelspec": {
   "display_name": "python_code_along_DE25",
   "language": "python",
   "name": "python3"
  },
  "language_info": {
   "codemirror_mode": {
    "name": "ipython",
    "version": 3
   },
   "file_extension": ".py",
   "mimetype": "text/x-python",
   "name": "python",
   "nbconvert_exporter": "python",
   "pygments_lexer": "ipython3",
   "version": "3.11.8"
  }
 },
 "nbformat": 4,
 "nbformat_minor": 5
}
